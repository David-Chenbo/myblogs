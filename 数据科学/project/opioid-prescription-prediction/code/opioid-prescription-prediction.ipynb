{
 "cells": [
  {
   "cell_type": "markdown",
   "metadata": {
    "ExecuteTime": {
     "start_time": "2020-04-11T13:39:01.809Z"
    }
   },
   "source": [
    "# Use Machine Learning to Predict U.S. Opioid Prescribers with Scikit Learn\n",
    "\n",
    "\n",
    "This Code Pattern will focus on and guide you through how to use scikit learn and python to predict opioid prescribers based off of a [2014 kaggle dataset](https://www.kaggle.com/apryor6/us-opiate-prescriptions/data).\n",
    "\n",
    "In this notebook, we explore the dataset `opioids.csv`, `overdoses.csv`, `prescriber-info.csv` and apply:\n",
    "- demographic data visualization\n",
    "- machine learning trainings and model comparisons\n",
    "\n",
    "\n",
    "<a id=\"section0\"></a>\n",
    "### Prerequisites\n",
    "\n",
    "Before you run this notebook complete the following steps:\n",
    "- Import required packages\n",
    "\n",
    "#### Import required packages\n",
    "\n",
    "Import and configure the required packages, including StringIO, requests, json, pandas, numpy.\n",
    "This Code Pattern will focus on and guide you through how to use scikit learn and python  to predict opioid prescribers based off of a [2014 kaggle dataset](https://www.kaggle.com/apryor6/us-opiate-prescriptions/data).\n",
    "\n",
    "In this notebook, we explore the dataset `opioids.csv`, `overdoses.csv`, `prescriber-info.csv` and apply:\n",
    "- demographic data visualization\n",
    "- machine learning trainings and model comparisons"
   ]
  },
  {
   "cell_type": "code",
   "execution_count": 183,
   "metadata": {
    "ExecuteTime": {
     "end_time": "2020-04-11T13:33:35.443018Z",
     "start_time": "2020-04-11T13:33:35.436634Z"
    }
   },
   "outputs": [],
   "source": [
    "#import packages\n",
    "from io import StringIO\n",
    "import requests\n",
    "import json\n",
    "import sys\n",
    "import pandas as pd\n",
    "import numpy as np\n",
    "import matplotlib.pyplot as plt"
   ]
  },
  {
   "cell_type": "code",
   "execution_count": 184,
   "metadata": {
    "ExecuteTime": {
     "end_time": "2020-04-11T13:33:35.694087Z",
     "start_time": "2020-04-11T13:33:35.691773Z"
    }
   },
   "outputs": [],
   "source": [
    "# define path\n",
    "path = '/root/notebook/Data science with python/predict-opioid-prescribers/data/'"
   ]
  },
  {
   "cell_type": "code",
   "execution_count": 185,
   "metadata": {
    "ExecuteTime": {
     "end_time": "2020-04-11T13:33:35.924679Z",
     "start_time": "2020-04-11T13:33:35.912015Z"
    }
   },
   "outputs": [
    {
     "data": {
      "text/html": [
       "<div>\n",
       "<style scoped>\n",
       "    .dataframe tbody tr th:only-of-type {\n",
       "        vertical-align: middle;\n",
       "    }\n",
       "\n",
       "    .dataframe tbody tr th {\n",
       "        vertical-align: top;\n",
       "    }\n",
       "\n",
       "    .dataframe thead th {\n",
       "        text-align: right;\n",
       "    }\n",
       "</style>\n",
       "<table border=\"1\" class=\"dataframe\">\n",
       "  <thead>\n",
       "    <tr style=\"text-align: right;\">\n",
       "      <th></th>\n",
       "      <th>Drug Name</th>\n",
       "      <th>Generic Name</th>\n",
       "    </tr>\n",
       "  </thead>\n",
       "  <tbody>\n",
       "    <tr>\n",
       "      <td>0</td>\n",
       "      <td>ABSTRAL</td>\n",
       "      <td>FENTANYL CITRATE</td>\n",
       "    </tr>\n",
       "    <tr>\n",
       "      <td>1</td>\n",
       "      <td>ACETAMINOPHEN-CODEINE</td>\n",
       "      <td>ACETAMINOPHEN WITH CODEINE</td>\n",
       "    </tr>\n",
       "    <tr>\n",
       "      <td>2</td>\n",
       "      <td>ACTIQ</td>\n",
       "      <td>FENTANYL CITRATE</td>\n",
       "    </tr>\n",
       "    <tr>\n",
       "      <td>3</td>\n",
       "      <td>ASCOMP WITH CODEINE</td>\n",
       "      <td>CODEINE/BUTALBITAL/ASA/CAFFEIN</td>\n",
       "    </tr>\n",
       "    <tr>\n",
       "      <td>4</td>\n",
       "      <td>ASPIRIN-CAFFEINE-DIHYDROCODEIN</td>\n",
       "      <td>DIHYDROCODEINE/ASPIRIN/CAFFEIN</td>\n",
       "    </tr>\n",
       "  </tbody>\n",
       "</table>\n",
       "</div>"
      ],
      "text/plain": [
       "                        Drug Name                    Generic Name\n",
       "0                         ABSTRAL                FENTANYL CITRATE\n",
       "1           ACETAMINOPHEN-CODEINE      ACETAMINOPHEN WITH CODEINE\n",
       "2                           ACTIQ                FENTANYL CITRATE\n",
       "3             ASCOMP WITH CODEINE  CODEINE/BUTALBITAL/ASA/CAFFEIN\n",
       "4  ASPIRIN-CAFFEINE-DIHYDROCODEIN  DIHYDROCODEINE/ASPIRIN/CAFFEIN"
      ]
     },
     "execution_count": 185,
     "metadata": {},
     "output_type": "execute_result"
    }
   ],
   "source": [
    "path_opioids = path + 'opioids.csv'\n",
    "# Using pandas to read the data \n",
    "df_data_1 = pd.read_csv(path_opioids,sep=',')\n",
    "# Display the first five rows\n",
    "df_data_1.head()"
   ]
  },
  {
   "cell_type": "markdown",
   "metadata": {},
   "source": [
    "The opioids.csv dataset has two columns, `Drug Name` and `Generic Name`. Each row represents one medicine with its drug name and generic name."
   ]
  },
  {
   "cell_type": "code",
   "execution_count": 186,
   "metadata": {
    "ExecuteTime": {
     "end_time": "2020-04-11T13:33:36.172242Z",
     "start_time": "2020-04-11T13:33:36.160743Z"
    },
    "scrolled": true
   },
   "outputs": [
    {
     "data": {
      "text/html": [
       "<div>\n",
       "<style scoped>\n",
       "    .dataframe tbody tr th:only-of-type {\n",
       "        vertical-align: middle;\n",
       "    }\n",
       "\n",
       "    .dataframe tbody tr th {\n",
       "        vertical-align: top;\n",
       "    }\n",
       "\n",
       "    .dataframe thead th {\n",
       "        text-align: right;\n",
       "    }\n",
       "</style>\n",
       "<table border=\"1\" class=\"dataframe\">\n",
       "  <thead>\n",
       "    <tr style=\"text-align: right;\">\n",
       "      <th></th>\n",
       "      <th>State</th>\n",
       "      <th>Population</th>\n",
       "      <th>Deaths</th>\n",
       "      <th>Abbrev</th>\n",
       "    </tr>\n",
       "  </thead>\n",
       "  <tbody>\n",
       "    <tr>\n",
       "      <td>0</td>\n",
       "      <td>Alabama</td>\n",
       "      <td>4,833,722</td>\n",
       "      <td>723</td>\n",
       "      <td>AL</td>\n",
       "    </tr>\n",
       "    <tr>\n",
       "      <td>1</td>\n",
       "      <td>Alaska</td>\n",
       "      <td>735,132</td>\n",
       "      <td>124</td>\n",
       "      <td>AK</td>\n",
       "    </tr>\n",
       "    <tr>\n",
       "      <td>2</td>\n",
       "      <td>Arizona</td>\n",
       "      <td>6,626,624</td>\n",
       "      <td>1,211</td>\n",
       "      <td>AZ</td>\n",
       "    </tr>\n",
       "    <tr>\n",
       "      <td>3</td>\n",
       "      <td>Arkansas</td>\n",
       "      <td>2,959,373</td>\n",
       "      <td>356</td>\n",
       "      <td>AR</td>\n",
       "    </tr>\n",
       "    <tr>\n",
       "      <td>4</td>\n",
       "      <td>California</td>\n",
       "      <td>38,332,521</td>\n",
       "      <td>4,521</td>\n",
       "      <td>CA</td>\n",
       "    </tr>\n",
       "  </tbody>\n",
       "</table>\n",
       "</div>"
      ],
      "text/plain": [
       "        State  Population Deaths Abbrev\n",
       "0     Alabama   4,833,722    723     AL\n",
       "1      Alaska     735,132    124     AK\n",
       "2     Arizona   6,626,624  1,211     AZ\n",
       "3    Arkansas   2,959,373    356     AR\n",
       "4  California  38,332,521  4,521     CA"
      ]
     },
     "execution_count": 186,
     "metadata": {},
     "output_type": "execute_result"
    }
   ],
   "source": [
    "path_overdoses = path + 'overdoses.csv'\n",
    "# Using pandas to read the data \n",
    "df_data_2 = pd.read_csv(path_overdoses)\n",
    "# Display the first five rows\n",
    "df_data_2.head()"
   ]
  },
  {
   "cell_type": "markdown",
   "metadata": {},
   "source": [
    "The overdoses.csv dateset has four columns, including `State`, `Population`, `Deaths`, and `Abbrev`. Each row represents a state and its populations, number of deaths and state abbreviation names."
   ]
  },
  {
   "cell_type": "code",
   "execution_count": 187,
   "metadata": {
    "ExecuteTime": {
     "end_time": "2020-04-11T13:33:36.950933Z",
     "start_time": "2020-04-11T13:33:36.494551Z"
    }
   },
   "outputs": [
    {
     "data": {
      "text/html": [
       "<div>\n",
       "<style scoped>\n",
       "    .dataframe tbody tr th:only-of-type {\n",
       "        vertical-align: middle;\n",
       "    }\n",
       "\n",
       "    .dataframe tbody tr th {\n",
       "        vertical-align: top;\n",
       "    }\n",
       "\n",
       "    .dataframe thead th {\n",
       "        text-align: right;\n",
       "    }\n",
       "</style>\n",
       "<table border=\"1\" class=\"dataframe\">\n",
       "  <thead>\n",
       "    <tr style=\"text-align: right;\">\n",
       "      <th></th>\n",
       "      <th>NPI</th>\n",
       "      <th>Gender</th>\n",
       "      <th>State</th>\n",
       "      <th>Credentials</th>\n",
       "      <th>Specialty</th>\n",
       "      <th>ABILIFY</th>\n",
       "      <th>ACETAMINOPHEN.CODEINE</th>\n",
       "      <th>ACYCLOVIR</th>\n",
       "      <th>ADVAIR.DISKUS</th>\n",
       "      <th>AGGRENOX</th>\n",
       "      <th>...</th>\n",
       "      <th>VERAPAMIL.ER</th>\n",
       "      <th>VESICARE</th>\n",
       "      <th>VOLTAREN</th>\n",
       "      <th>VYTORIN</th>\n",
       "      <th>WARFARIN.SODIUM</th>\n",
       "      <th>XARELTO</th>\n",
       "      <th>ZETIA</th>\n",
       "      <th>ZIPRASIDONE.HCL</th>\n",
       "      <th>ZOLPIDEM.TARTRATE</th>\n",
       "      <th>Opioid.Prescriber</th>\n",
       "    </tr>\n",
       "  </thead>\n",
       "  <tbody>\n",
       "    <tr>\n",
       "      <td>0</td>\n",
       "      <td>1710982582</td>\n",
       "      <td>M</td>\n",
       "      <td>TX</td>\n",
       "      <td>DDS</td>\n",
       "      <td>Dentist</td>\n",
       "      <td>0</td>\n",
       "      <td>0</td>\n",
       "      <td>0</td>\n",
       "      <td>0</td>\n",
       "      <td>0</td>\n",
       "      <td>...</td>\n",
       "      <td>0</td>\n",
       "      <td>0</td>\n",
       "      <td>0</td>\n",
       "      <td>0</td>\n",
       "      <td>0</td>\n",
       "      <td>0</td>\n",
       "      <td>0</td>\n",
       "      <td>0</td>\n",
       "      <td>0</td>\n",
       "      <td>1</td>\n",
       "    </tr>\n",
       "    <tr>\n",
       "      <td>1</td>\n",
       "      <td>1245278100</td>\n",
       "      <td>F</td>\n",
       "      <td>AL</td>\n",
       "      <td>MD</td>\n",
       "      <td>General Surgery</td>\n",
       "      <td>0</td>\n",
       "      <td>0</td>\n",
       "      <td>0</td>\n",
       "      <td>0</td>\n",
       "      <td>0</td>\n",
       "      <td>...</td>\n",
       "      <td>0</td>\n",
       "      <td>0</td>\n",
       "      <td>0</td>\n",
       "      <td>0</td>\n",
       "      <td>0</td>\n",
       "      <td>0</td>\n",
       "      <td>0</td>\n",
       "      <td>0</td>\n",
       "      <td>35</td>\n",
       "      <td>1</td>\n",
       "    </tr>\n",
       "    <tr>\n",
       "      <td>2</td>\n",
       "      <td>1427182161</td>\n",
       "      <td>F</td>\n",
       "      <td>NY</td>\n",
       "      <td>M.D.</td>\n",
       "      <td>General Practice</td>\n",
       "      <td>0</td>\n",
       "      <td>0</td>\n",
       "      <td>0</td>\n",
       "      <td>0</td>\n",
       "      <td>0</td>\n",
       "      <td>...</td>\n",
       "      <td>0</td>\n",
       "      <td>0</td>\n",
       "      <td>0</td>\n",
       "      <td>0</td>\n",
       "      <td>0</td>\n",
       "      <td>0</td>\n",
       "      <td>0</td>\n",
       "      <td>0</td>\n",
       "      <td>25</td>\n",
       "      <td>0</td>\n",
       "    </tr>\n",
       "    <tr>\n",
       "      <td>3</td>\n",
       "      <td>1669567541</td>\n",
       "      <td>M</td>\n",
       "      <td>AZ</td>\n",
       "      <td>MD</td>\n",
       "      <td>Internal Medicine</td>\n",
       "      <td>0</td>\n",
       "      <td>43</td>\n",
       "      <td>0</td>\n",
       "      <td>0</td>\n",
       "      <td>0</td>\n",
       "      <td>...</td>\n",
       "      <td>0</td>\n",
       "      <td>0</td>\n",
       "      <td>0</td>\n",
       "      <td>0</td>\n",
       "      <td>0</td>\n",
       "      <td>0</td>\n",
       "      <td>0</td>\n",
       "      <td>0</td>\n",
       "      <td>0</td>\n",
       "      <td>1</td>\n",
       "    </tr>\n",
       "    <tr>\n",
       "      <td>4</td>\n",
       "      <td>1679650949</td>\n",
       "      <td>M</td>\n",
       "      <td>NV</td>\n",
       "      <td>M.D.</td>\n",
       "      <td>Hematology/Oncology</td>\n",
       "      <td>0</td>\n",
       "      <td>0</td>\n",
       "      <td>0</td>\n",
       "      <td>0</td>\n",
       "      <td>0</td>\n",
       "      <td>...</td>\n",
       "      <td>0</td>\n",
       "      <td>0</td>\n",
       "      <td>0</td>\n",
       "      <td>0</td>\n",
       "      <td>17</td>\n",
       "      <td>28</td>\n",
       "      <td>0</td>\n",
       "      <td>0</td>\n",
       "      <td>0</td>\n",
       "      <td>1</td>\n",
       "    </tr>\n",
       "  </tbody>\n",
       "</table>\n",
       "<p>5 rows × 256 columns</p>\n",
       "</div>"
      ],
      "text/plain": [
       "          NPI Gender State Credentials            Specialty  ABILIFY  \\\n",
       "0  1710982582      M    TX         DDS              Dentist        0   \n",
       "1  1245278100      F    AL          MD      General Surgery        0   \n",
       "2  1427182161      F    NY        M.D.     General Practice        0   \n",
       "3  1669567541      M    AZ          MD    Internal Medicine        0   \n",
       "4  1679650949      M    NV        M.D.  Hematology/Oncology        0   \n",
       "\n",
       "   ACETAMINOPHEN.CODEINE  ACYCLOVIR  ADVAIR.DISKUS  AGGRENOX  ...  \\\n",
       "0                      0          0              0         0  ...   \n",
       "1                      0          0              0         0  ...   \n",
       "2                      0          0              0         0  ...   \n",
       "3                     43          0              0         0  ...   \n",
       "4                      0          0              0         0  ...   \n",
       "\n",
       "   VERAPAMIL.ER  VESICARE  VOLTAREN  VYTORIN  WARFARIN.SODIUM  XARELTO  ZETIA  \\\n",
       "0             0         0         0        0                0        0      0   \n",
       "1             0         0         0        0                0        0      0   \n",
       "2             0         0         0        0                0        0      0   \n",
       "3             0         0         0        0                0        0      0   \n",
       "4             0         0         0        0               17       28      0   \n",
       "\n",
       "   ZIPRASIDONE.HCL  ZOLPIDEM.TARTRATE  Opioid.Prescriber  \n",
       "0                0                  0                  1  \n",
       "1                0                 35                  1  \n",
       "2                0                 25                  0  \n",
       "3                0                  0                  1  \n",
       "4                0                  0                  1  \n",
       "\n",
       "[5 rows x 256 columns]"
      ]
     },
     "execution_count": 187,
     "metadata": {},
     "output_type": "execute_result"
    }
   ],
   "source": [
    "path_overdoses = path + 'prescriber-info.csv'\n",
    "# Using pandas to read the data \n",
    "df_data_3 = pd.read_csv(path_overdoses)\n",
    "# Display the first five rows\n",
    "df_data_3.head()"
   ]
  },
  {
   "cell_type": "markdown",
   "metadata": {},
   "source": [
    "The prescriber-info.csv displays number of drugs prescribed by 25000 medical professionals in the United States in 2014. The number of drug includes both opiate and non-opiate drugs. For each row, it represents a medical professional with their NPI number, gender, state, credentials, and speciality. In the paper *Opiate/Opioid prescription analysis using machine learning*, **they classify a doctor as opiate prescriber if he/she prescribe opiate drugs more than 10 times in total.**"
   ]
  },
  {
   "cell_type": "markdown",
   "metadata": {},
   "source": [
    "## Exploration and Initial Preprocessing\n",
    "\n",
    "Let's start out by removing the ',' from our numbers in the Deaths and Population columns so that we can use the cells as integers"
   ]
  },
  {
   "cell_type": "code",
   "execution_count": 188,
   "metadata": {
    "ExecuteTime": {
     "end_time": "2020-04-11T13:33:37.187165Z",
     "start_time": "2020-04-11T13:33:37.182477Z"
    }
   },
   "outputs": [],
   "source": [
    "df_data_2['Deaths'] = df_data_2['Deaths'].str.replace(',', '')\n",
    "df_data_2['Deaths'] = df_data_2['Deaths'].astype(int)"
   ]
  },
  {
   "cell_type": "code",
   "execution_count": 189,
   "metadata": {
    "ExecuteTime": {
     "end_time": "2020-04-11T13:33:37.462010Z",
     "start_time": "2020-04-11T13:33:37.456863Z"
    }
   },
   "outputs": [],
   "source": [
    "df_data_2['Population'] = df_data_2['Population'].str.replace(',', '')\n",
    "df_data_2['Population'] = df_data_2['Population'].astype(int)"
   ]
  },
  {
   "cell_type": "markdown",
   "metadata": {},
   "source": [
    "Add an additional column where we see the deaths per capita per each state."
   ]
  },
  {
   "cell_type": "code",
   "execution_count": 190,
   "metadata": {
    "ExecuteTime": {
     "end_time": "2020-04-11T13:33:37.737656Z",
     "start_time": "2020-04-11T13:33:37.733402Z"
    }
   },
   "outputs": [],
   "source": [
    "df_data_2['Deaths/Population'] = (df_data_2['Deaths']/df_data_2['Population'])"
   ]
  },
  {
   "cell_type": "code",
   "execution_count": 191,
   "metadata": {
    "ExecuteTime": {
     "end_time": "2020-04-11T13:33:37.996032Z",
     "start_time": "2020-04-11T13:33:37.986140Z"
    },
    "scrolled": true
   },
   "outputs": [
    {
     "data": {
      "text/html": [
       "<div>\n",
       "<style scoped>\n",
       "    .dataframe tbody tr th:only-of-type {\n",
       "        vertical-align: middle;\n",
       "    }\n",
       "\n",
       "    .dataframe tbody tr th {\n",
       "        vertical-align: top;\n",
       "    }\n",
       "\n",
       "    .dataframe thead th {\n",
       "        text-align: right;\n",
       "    }\n",
       "</style>\n",
       "<table border=\"1\" class=\"dataframe\">\n",
       "  <thead>\n",
       "    <tr style=\"text-align: right;\">\n",
       "      <th></th>\n",
       "      <th>State</th>\n",
       "      <th>Population</th>\n",
       "      <th>Deaths</th>\n",
       "      <th>Abbrev</th>\n",
       "      <th>Deaths/Population</th>\n",
       "    </tr>\n",
       "  </thead>\n",
       "  <tbody>\n",
       "    <tr>\n",
       "      <td>0</td>\n",
       "      <td>Alabama</td>\n",
       "      <td>4833722</td>\n",
       "      <td>723</td>\n",
       "      <td>AL</td>\n",
       "      <td>0.000150</td>\n",
       "    </tr>\n",
       "    <tr>\n",
       "      <td>1</td>\n",
       "      <td>Alaska</td>\n",
       "      <td>735132</td>\n",
       "      <td>124</td>\n",
       "      <td>AK</td>\n",
       "      <td>0.000169</td>\n",
       "    </tr>\n",
       "    <tr>\n",
       "      <td>2</td>\n",
       "      <td>Arizona</td>\n",
       "      <td>6626624</td>\n",
       "      <td>1211</td>\n",
       "      <td>AZ</td>\n",
       "      <td>0.000183</td>\n",
       "    </tr>\n",
       "    <tr>\n",
       "      <td>3</td>\n",
       "      <td>Arkansas</td>\n",
       "      <td>2959373</td>\n",
       "      <td>356</td>\n",
       "      <td>AR</td>\n",
       "      <td>0.000120</td>\n",
       "    </tr>\n",
       "    <tr>\n",
       "      <td>4</td>\n",
       "      <td>California</td>\n",
       "      <td>38332521</td>\n",
       "      <td>4521</td>\n",
       "      <td>CA</td>\n",
       "      <td>0.000118</td>\n",
       "    </tr>\n",
       "  </tbody>\n",
       "</table>\n",
       "</div>"
      ],
      "text/plain": [
       "        State  Population  Deaths Abbrev  Deaths/Population\n",
       "0     Alabama     4833722     723     AL           0.000150\n",
       "1      Alaska      735132     124     AK           0.000169\n",
       "2     Arizona     6626624    1211     AZ           0.000183\n",
       "3    Arkansas     2959373     356     AR           0.000120\n",
       "4  California    38332521    4521     CA           0.000118"
      ]
     },
     "execution_count": 191,
     "metadata": {},
     "output_type": "execute_result"
    }
   ],
   "source": [
    "df_data_2.head()"
   ]
  },
  {
   "cell_type": "code",
   "execution_count": 192,
   "metadata": {
    "ExecuteTime": {
     "end_time": "2020-04-11T13:33:38.230333Z",
     "start_time": "2020-04-11T13:33:38.225743Z"
    },
    "scrolled": true
   },
   "outputs": [
    {
     "data": {
      "text/plain": [
       "dtype('float64')"
      ]
     },
     "execution_count": 192,
     "metadata": {},
     "output_type": "execute_result"
    }
   ],
   "source": [
    "df_data_2['Deaths/Population'].dtype"
   ]
  },
  {
   "cell_type": "markdown",
   "metadata": {},
   "source": [
    "Import pixiedust. Use pixiedust to visualize our initial exploration."
   ]
  },
  {
   "cell_type": "markdown",
   "metadata": {},
   "source": [
    "Curious about how many opioid deaths in each state? Let's plot a graph."
   ]
  },
  {
   "cell_type": "code",
   "execution_count": 193,
   "metadata": {
    "ExecuteTime": {
     "end_time": "2020-04-11T13:33:39.124810Z",
     "start_time": "2020-04-11T13:33:38.686350Z"
    },
    "scrolled": true
   },
   "outputs": [
    {
     "data": {
      "image/png": "[encoded data removed]",
      "text/plain": [
       "<Figure size 720x720 with 1 Axes>"
      ]
     },
     "metadata": {
      "needs_background": "light"
     },
     "output_type": "display_data"
    }
   ],
   "source": [
    "names = df_data_2['State'].values.tolist()\n",
    "values = df_data_2['Deaths']\n",
    "plt.figure(figsize=(10,10)) \n",
    "# 绘图 x= 起始位置， bottom= 水平条的底部(左侧), y轴， height 水平条的宽度， width 水平条的长度\n",
    "plt.bar(x=0, bottom=names, height=0.5, width=values, orientation=\"horizontal\")\n",
    "plt.title('Number of deaths by state') \n",
    "plt.yticks(np.arange(49), names)           \n",
    "plt.ylabel('State',fontsize=14) \n",
    "plt.xlabel('Deaths',fontsize=14) \n",
    "plt.show()"
   ]
  },
  {
   "cell_type": "markdown",
   "metadata": {
    "collapsed": true
   },
   "source": [
    "It definitely looks like California has significantly more deaths than any other states. \n",
    "\n",
    "Let's remember, however, California is a huge state with a matching population. Even thtough the total number of deaths is huge, it doesn't imply that people in California have a higher death rate. Because of this we need to take a look at the values of deaths per capita."
   ]
  },
  {
   "cell_type": "code",
   "execution_count": 194,
   "metadata": {
    "ExecuteTime": {
     "end_time": "2020-04-11T13:33:40.402901Z",
     "start_time": "2020-04-11T13:33:39.905530Z"
    }
   },
   "outputs": [
    {
     "data": {
      "image/png": "[encoded data removed]",
      "text/plain": [
       "<Figure size 720x720 with 1 Axes>"
      ]
     },
     "metadata": {
      "needs_background": "light"
     },
     "output_type": "display_data"
    }
   ],
   "source": [
    "#What about deaths (% of population) by U.S. State?\n",
    "names = df_data_2['State'].values.tolist()\n",
    "values = df_data_2['Deaths/Population']\n",
    "plt.figure(figsize=(10,10)) \n",
    "# 绘图 x= 起始位置， bottom= 水平条的底部(左侧), y轴， height 水平条的宽度， width 水平条的长度\n",
    "plt.bar(x=0, bottom=names, height=0.5, width=values, orientation=\"horizontal\")\n",
    "plt.title('Deaths/Population') \n",
    "plt.yticks(np.arange(49), names)           \n",
    "plt.ylabel('State',fontsize=14) \n",
    "plt.xlabel('Deaths/Population',fontsize=14) \n",
    "plt.show()"
   ]
  },
  {
   "cell_type": "markdown",
   "metadata": {
    "collapsed": true
   },
   "source": [
    "We can see that West Virginia, New Mexico, New Hampshire, Ohio, Kentucky and Delaware stand out. \n",
    "\n",
    "Let's check this out with a map. (I used google maps. To do this, create an API and enable JavaScript and GeoCoding. Then use your API key under 'Options'.)"
   ]
  },
  {
   "cell_type": "markdown",
   "metadata": {},
   "source": [
    "### Let's move onto exploring our other dataset.\n",
    "\n",
    "We seem to have a great deal of prescriptions as well as physicians' gender, state, speciality, whether they are an opioid prescriber or not and unique ID."
   ]
  },
  {
   "cell_type": "code",
   "execution_count": 195,
   "metadata": {
    "ExecuteTime": {
     "end_time": "2020-04-11T13:33:40.799826Z",
     "start_time": "2020-04-11T13:33:40.771916Z"
    }
   },
   "outputs": [
    {
     "data": {
      "text/plain": [
       "NPI                  25000\n",
       "Gender               25000\n",
       "State                25000\n",
       "Credentials          24237\n",
       "Specialty            25000\n",
       "                     ...  \n",
       "XARELTO              25000\n",
       "ZETIA                25000\n",
       "ZIPRASIDONE.HCL      25000\n",
       "ZOLPIDEM.TARTRATE    25000\n",
       "Opioid.Prescriber    25000\n",
       "Length: 256, dtype: int64"
      ]
     },
     "execution_count": 195,
     "metadata": {},
     "output_type": "execute_result"
    }
   ],
   "source": [
    "df_data_3.count()"
   ]
  },
  {
   "cell_type": "markdown",
   "metadata": {},
   "source": [
    "This table output reflects that there are 25000 unique medical professionals in the United States in year 2014."
   ]
  },
  {
   "cell_type": "markdown",
   "metadata": {},
   "source": [
    "### Data Cleaning\n",
    "\n",
    "Why are there more than 50 states?"
   ]
  },
  {
   "cell_type": "code",
   "execution_count": 196,
   "metadata": {
    "ExecuteTime": {
     "end_time": "2020-04-11T13:33:41.852847Z",
     "start_time": "2020-04-11T13:33:41.847920Z"
    }
   },
   "outputs": [
    {
     "data": {
      "text/plain": [
       "array(['TX', 'AL', 'NY', 'AZ', 'NV', 'PA', 'NH', 'WI', 'PR', 'CO', 'OH',\n",
       "       'MA', 'CT', 'FL', 'MN', 'UT', 'IA', 'IL', 'MT', 'IN', 'VA', 'CA',\n",
       "       'OR', 'NE', 'MI', 'NM', 'TN', 'KS', 'LA', 'MD', 'MO', 'AR', 'NC',\n",
       "       'NJ', 'SC', 'WY', 'ME', 'OK', 'ND', 'KY', 'GA', 'DE', 'WA', 'RI',\n",
       "       'WV', 'AK', 'ID', 'VT', 'HI', 'MS', 'DC', 'SD', 'AE', 'ZZ', 'GU',\n",
       "       'AA', 'VI'], dtype=object)"
      ]
     },
     "execution_count": 196,
     "metadata": {},
     "output_type": "execute_result"
    }
   ],
   "source": [
    "# Let's take a look at the states.\n",
    "df_data_3.State.unique()"
   ]
  },
  {
   "cell_type": "code",
   "execution_count": 197,
   "metadata": {
    "ExecuteTime": {
     "end_time": "2020-04-11T13:33:42.332283Z",
     "start_time": "2020-04-11T13:33:42.322907Z"
    }
   },
   "outputs": [
    {
     "data": {
      "text/plain": [
       "array(['AL', 'AK', 'AZ', 'AR', 'CA', 'CO', 'CT', 'DE', 'FL', 'GA', 'HI',\n",
       "       'ID', 'IL', 'IN', 'IA', 'KS', 'KY', 'LA', 'ME', 'MD', 'MA', 'MI',\n",
       "       'MN', 'MS', 'MO', 'MT', 'NE', 'NV', 'NH', 'NJ', 'NM', 'NY', 'NC',\n",
       "       'ND', 'OH', 'OK', 'OR', 'PA', 'RI', 'SC', 'SD', 'TN', 'TX', 'UT',\n",
       "       'VT', 'VA', 'WA', 'WV', 'WI', 'WY'], dtype=object)"
      ]
     },
     "execution_count": 197,
     "metadata": {},
     "output_type": "execute_result"
    }
   ],
   "source": [
    "# Compare to df_data_2.\n",
    "df_data_2.Abbrev.unique()"
   ]
  },
  {
   "cell_type": "markdown",
   "metadata": {},
   "source": [
    "Compare the state list, clean up states to make the dataset state list equal.\n",
    "\n",
    "I checked the list of US state abbreviations and did not recognize PR, AE, ZZ, GU, AA or VI. After checking I learned that PR is Puerto Rico, GU is Guam and VI is Virgin Islands. Though I identified 3 of the 6 unknowns, I'll remove all of them as dataset 2 does not have data regarding PR, GU or VI."
   ]
  },
  {
   "cell_type": "code",
   "execution_count": 198,
   "metadata": {
    "ExecuteTime": {
     "end_time": "2020-04-11T13:33:43.352200Z",
     "start_time": "2020-04-11T13:33:43.175572Z"
    }
   },
   "outputs": [],
   "source": [
    "df_data_3 = df_data_3[df_data_3.State != 'AE']\n",
    "df_data_3 = df_data_3[df_data_3.State != 'ZZ']\n",
    "df_data_3 = df_data_3[df_data_3.State != 'AA']\n",
    "df_data_3 = df_data_3[df_data_3.State != 'PR']\n",
    "df_data_3 = df_data_3[df_data_3.State != 'GU']\n",
    "df_data_3 = df_data_3[df_data_3.State != 'VI']"
   ]
  },
  {
   "cell_type": "code",
   "execution_count": 199,
   "metadata": {
    "ExecuteTime": {
     "end_time": "2020-04-11T13:33:43.903156Z",
     "start_time": "2020-04-11T13:33:43.896702Z"
    },
    "scrolled": true
   },
   "outputs": [
    {
     "data": {
      "text/plain": [
       "array(['TX', 'AL', 'NY', 'AZ', 'NV', 'PA', 'NH', 'WI', 'CO', 'OH', 'MA',\n",
       "       'CT', 'FL', 'MN', 'UT', 'IA', 'IL', 'MT', 'IN', 'VA', 'CA', 'OR',\n",
       "       'NE', 'MI', 'NM', 'TN', 'KS', 'LA', 'MD', 'MO', 'AR', 'NC', 'NJ',\n",
       "       'SC', 'WY', 'ME', 'OK', 'ND', 'KY', 'GA', 'DE', 'WA', 'RI', 'WV',\n",
       "       'AK', 'ID', 'VT', 'HI', 'MS', 'DC', 'SD'], dtype=object)"
      ]
     },
     "execution_count": 199,
     "metadata": {},
     "output_type": "execute_result"
    }
   ],
   "source": [
    "# Make sure it worked!\n",
    "df_data_3.State.unique()"
   ]
  },
  {
   "cell_type": "code",
   "execution_count": 200,
   "metadata": {
    "ExecuteTime": {
     "end_time": "2020-04-11T13:33:44.182031Z",
     "start_time": "2020-04-11T13:33:44.172924Z"
    },
    "scrolled": true
   },
   "outputs": [
    {
     "data": {
      "text/plain": [
       "array(['DDS', 'MD', 'M.D.', 'DO', 'RN, MSN, ANP-BC', 'O.D.', nan,\n",
       "       'D.D.S.', 'ACNP', 'DPM', 'PAC', 'A.R.N.P.', 'MSN, APRN, BC',\n",
       "       'D.O.', 'M.D,', 'APRN', 'PA-C', 'CNM', 'RN CNP', 'DDS MS',\n",
       "       'DNP, APRN-BC, FNP', 'PHARM D.', 'CRNP', 'ARNP', 'D.D.S', 'DPM MD',\n",
       "       'FNP', 'NP', 'DMD', 'PA', 'MPT', 'D.M.D.', 'APRN BC FNP',\n",
       "       'DMD,FAGD', 'MD,MPH', 'BDS,  DDS', 'D.D.S., F.A.G.D.', 'DDS, MD',\n",
       "       'PMH, CNP/CNS', 'P.A.', 'M.D', 'D.O., MPH & TM', 'M.D., PH.D.',\n",
       "       'RPA-C', 'MD FACOG', 'F.N.P.', 'D.O', 'ANP', 'FNP-C', 'D.M.D',\n",
       "       'D.P.M.', 'OD', 'O. D.', 'CNS', 'MS, APRN, FNP-C', 'MD MPH',\n",
       "       'NP-C', 'PHARM D', 'M.D.,', 'MBBS', 'PHYSICIAN ASSISTANT',\n",
       "       'M.D. FCCP', 'MD.', 'CNP', 'DPT', 'D.D.S, M.D.', 'APRN, BC',\n",
       "       'P.A.-C', 'M.D.P.A.', 'F.N.P.-C', 'M. D.', 'CFNP', 'C.N.P', 'APN',\n",
       "       'D.D.S., A.P.C.', 'NP-C, MSN', 'MD FACP', 'R.P.A.', 'N.P.',\n",
       "       'APRN, CNS', 'D.D.S., M.D.', 'PMHNP', 'MD, PHD, ABFP', 'APNP',\n",
       "       'DMD, MD, PLLC', 'M.D., P.A.', 'MPA, MSED, ATC, PA-C', 'D O',\n",
       "       'M.D., M.H.S.', 'M.S., N.P.-C', 'FNP-BC', 'P.A', 'FPMH-NP', 'NFP',\n",
       "       'ARNP-BC', 'CPNP', 'A.P.R.N.', 'P.A.-C.', 'NURSE PRACTITIONER',\n",
       "       'DMD MS', 'APN, BC', 'M.B.B.S.', 'RN, FNP', 'NP, CNM', 'ANP-BC',\n",
       "       'PA-C, MS', 'MD IN TRAINING', 'RN, CNP', 'CRNP,MSN,BC',\n",
       "       'MSN, FNP-C', 'D.O., D.O.S.', 'D D S  M D', 'DNP, ARNP',\n",
       "       'MSN, ARNP, ACNP-BC', 'OO', 'MD PA', 'RN,FNP', 'D.D.S., M.S.',\n",
       "       'MBBS, MD', 'DNP, APRN', 'D.O .', 'CNP, APRN, CNS-RX', 'M.D. PH.D',\n",
       "       'D.D.S., M.S.D.', 'MB,BS', 'FAMILY NURSE PRACTIT', 'WHNP',\n",
       "       'P.A.C.', 'ND', 'PHARM. D.', 'ANP.', 'RN, APN, FNP', 'PA-C, ATC',\n",
       "       'RPA', 'MD, PHD', 'NP, CNS', 'MD, FACEP, FAAEM', 'ANP,BC',\n",
       "       'WHNP-BC', 'APRN-BC, ANP, FNP', 'ANP-FNP-BC', 'D.D.S, F.A.G.D',\n",
       "       'DDS MD', 'P.A-C', 'M.D.,MBA', 'MSN, APN, CNP, NP-C',\n",
       "       'M.D., M.P.H.', 'R.N.  NPF', 'MSN, FNP-BC', 'PMHHNP', 'FNP,NPP',\n",
       "       'C. - F. N. P.', 'DDS. MS', 'O.D., M.P.H.', 'N.D.', 'N. P.',\n",
       "       'ARNP, BSN, MN', 'MD, MSBS', 'M.D, MPH', 'NP-ADULT', 'MS',\n",
       "       'M.D. P.A.', 'MS,APRN,FNP,BC', 'M.D., PHD', 'DNP, APRN-BC',\n",
       "       'OD PC', 'DNP, APRN, NP-C', 'MD, MS', 'MS,MPH', 'M.S.N., A.P.N.',\n",
       "       'O.D', 'D.D,S.', 'MD, PH.D.', 'MD, MPH', 'PA-C, MPAS',\n",
       "       'D.D.S., F.R.C.D.C.', 'ATC, FNP-C', 'PHD, APN', 'APRN-BC,FNP',\n",
       "       'ARNP, BC-GNP', 'RN', 'M.D., F.A.C.R.', 'PA-C (PHYSICIAN ASSI',\n",
       "       'APRN-CNS', 'D,O.', 'MEDICAL DOCTOR', 'D. O.', 'D.D.S, P.A.',\n",
       "       'MPAS, PA-C', 'OD, PA', 'DDS, MSD', 'A.P.R.N. N.P.', 'CNM, FNP-C',\n",
       "       'B.S., PA-C', 'M.D MRCP', 'MD PHD', 'PCS', 'ACNP-BC', 'C.N.P.',\n",
       "       'MD MBA', 'D.M.D., M.D.', 'RNP', 'PHARMD', 'M.D. ,PH.D.',\n",
       "       'MD, PHD, FACC', 'D.O., M.S.', 'ARNP, CNM', 'M.D. ; M.B.,B.S.',\n",
       "       'MS, FNP-BC', 'MD FACE', 'M.D., PA', 'ARNP-C', 'RN, CFNP',\n",
       "       'ACNP-BC, MSN', 'CANP', 'FNP, PHD', 'MBBS, FRCS', 'PHP MD', 'PHC',\n",
       "       'BOARD CERTIFIED FNP', 'RN, ANP', 'M.D, MSC', 'MNS', 'PMH-NP-BC',\n",
       "       'M.H.S., P.A.', 'DNP, ANP-BC', 'NPC', 'M.S.N.', 'DNP, FNP-BC',\n",
       "       'HERSCHEL ROSS DDS', 'M.D., PH. D.', 'DENTIST', 'M.S. C.N.P.',\n",
       "       'MS, PA-C', 'R.P.A.C.', 'MHS, PA-C', 'RN, NP', 'D.D.S., PC',\n",
       "       'MSPAS, PA-C', 'JAMES KIM', 'DDS PS', 'APRN, FNP-BC',\n",
       "       'BSHS, MSN, FNP-BC', 'ANP-C', 'RPA C', 'MD MPH MS DRPH',\n",
       "       'DDS,CAGS', 'A.P.N.', 'D.D.S., B.S.', 'RPAC', 'N.M.D.', 'DDS,MSD',\n",
       "       'D.D.S.,M.S.', 'CNFP', 'ARNP FNP-BC', 'RN, MSN, CCRN, ANP',\n",
       "       'MS RN NPP', 'APRN-BC', 'APN,FNP', 'M.D. - PH.D', 'PHD, FNP',\n",
       "       'MD P C', 'DDS PLLC', 'RN, CS, FNP', 'CRNP- FAMILY', 'D.C., FNP',\n",
       "       'DOCTOR OF OPTOMETRY', 'D.D.S., F.A.C.D.', 'RN, MSN, PMHNP, BC',\n",
       "       'FNP, PMHNP', 'DNP', 'FLORA LAU', 'DDS,MD', 'MD, FACP',\n",
       "       'APN, BC-FNP', 'DMD, MD', 'MD, PH.D', 'DDS, MAGD', 'D.P.M', 'DDA',\n",
       "       'D.M.D., P.C', 'MD  PA', 'PMHCNS-BC', 'RN MSN FNO-C', 'MD, FACS',\n",
       "       'M.D. (H)', 'ARNP, DNP', 'PHARM.D.', 'MSN ANP', 'FNP - C',\n",
       "       'DNP,PMHCNS-BC', 'D.D.S., PH.D.', 'MD, MBA', 'GNP-BC',\n",
       "       'M.D., M.B.A', 'RN,NP', 'MHSA, PA-C', 'PA C', 'MD FACS',\n",
       "       'APRN, PHD, CNS', 'F.N.P', 'DPM, FACFS', 'M.P.A.S., P.A.C., LP',\n",
       "       'D.O.,', 'RN,CFNP', 'M.D., PHARMD.', 'NP,  APRN BC', 'MD., PH.D.',\n",
       "       'M.D., MPH', 'RN MSN CNM ARNP', 'A.R.N.P.-B.C.', 'R.PH.',\n",
       "       'PMHNP-BC', 'DMD, MSD', 'FNP-BC, NP-C', 'C.N.S.', 'P.D., D.D.S.',\n",
       "       'DNP / FNP', 'CRNP, FNP-BC, RN', 'MD FACC', 'AGNP', 'DP',\n",
       "       'RN, MSN, ACNP-BC', 'RN, CS, MS(N),FNP', 'M,D.', 'ARNP,BC',\n",
       "       'RN, MSN, NP-C', 'N.P', 'M.D.,F.A.C.O.G.', 'MSN,FNP-BC', 'NP-F',\n",
       "       'MSN, APN,C', 'ANNA TAVAKKOLI M.D.', 'MS, ANP-C', 'MSN, ARNP',\n",
       "       'DNP, CRNP, NP-C', 'ANPC', 'M.D., M.S.H.S.', 'M.D.,M.P.H.', 'LPN',\n",
       "       'B.S', 'M.N., ARNP', 'MD RD', 'ANP/CNP', 'M.D.,MPH',\n",
       "       'MD,  FCCP, D-ABSM', 'D.D.S,PC', 'D.O., M.D', 'MD FACP FACC',\n",
       "       'DNP, FNP-C', 'A.N.P.', 'MD, PC', 'D.M.D., F.A.G.D.', 'DMD, MDS',\n",
       "       'FNP, BC', 'M.B.B.S', 'CRNA', 'MSN, CRNP', 'PA-C, L.AC.',\n",
       "       'M.S., NP-C', 'A.T.,C. , C.S.C.S.', 'M.D., F.A.C.P.', 'PHYSICIAN',\n",
       "       'RN, MSN, FNP', 'APN-C', 'MS RN CS', 'M.D., P.C.', 'DDS  PC',\n",
       "       'APRN, PMHNP-BC', 'M.D. MPH', 'A.R.N.P. , PMHNP-BC', 'M.D., MS',\n",
       "       'MSN, CNS, ACNP-BC', 'M.D..', 'PA, O.T.', 'FNP-C, ACNP', 'ACNS-BC',\n",
       "       'R.N.', 'M.S.N., R.N., N.P.', 'MD, MSHS', 'M.B.;B.S.',\n",
       "       'M.D., FACOG', 'D.D.S, M.S', 'C.R.N.P.', 'MBBS (MD)', 'MBBCH',\n",
       "       'MSN, ACNP-BC, CCRN', 'ANP-BC, GNP', 'DDS, MS', 'M.D., M.A.',\n",
       "       'MS ANPC', 'M.D., FACS', 'CNP, CNM', 'DRNP', 'M.B., B.S.',\n",
       "       'MBBS,MS', 'D.M.D., M. S.', 'R.N., N.P.', 'RN NP', 'M.D., FAAFP',\n",
       "       'M.D. PH.D.', 'C-FNP', 'PHARMD, DDS', 'M.D., PH.D', 'ANRP',\n",
       "       'A.P.R.N., B.C.', 'RN, APRN, NP, B.C.', 'PMHNP-BC. NP',\n",
       "       'N.D., LAC', 'DMD MD', 'M.D.PH.D.', 'MD, MS, MBA', 'MB.BS, FRCSC',\n",
       "       'M.D.,P.A.', 'M.D., M.S.', 'RN CFNP', 'M D F A A D',\n",
       "       'A.P.R.N., W.H.N.P.', 'MSN, APRN, FNP-BC', 'D. D. S.',\n",
       "       'D.M.D, M.D.', 'MD, MSPH', 'RPH,BCOP, BCPS', 'DMD, MS',\n",
       "       'MSN, APRN, BC, FNP', 'D.D.S. P.S.', 'RN, PMHNP', 'WHNP, CFNP',\n",
       "       'DPM PC', 'RN,C,FNP', 'ARNP CS', 'DDS, PS', 'C.N.M.,F.N.P.',\n",
       "       'DNP, FNP', 'DMD BA', 'PA (PHYSICIAN ASSIST', 'D.O., RPH',\n",
       "       'CNM, FNP, DNP', 'M.D., F.C.C.P.', 'DO, LACC', 'R PA-C', 'P.A.C/',\n",
       "       'B.D.S.', 'DDS,MS', 'DC, PA-C', 'DMD DR MED DENT', 'RN CNS',\n",
       "       'WHCNP/ANP', 'ARANP', 'MS, RN, FNP-C', 'GNP-C', 'D.O., M.D.',\n",
       "       'PA-C, MSPAC', 'M. D. M.P.H.', 'DO, MPH', 'PH.D., NP-C',\n",
       "       'FNP-APNP', 'OD, FAAO, FOAA', 'BDS, DDS', 'M D', 'MT',\n",
       "       'R.N, M.S.N., G.N.P.', 'MD, M.P.H., A.T.C', 'OD, MS',\n",
       "       'PHD, NP, PMHNP-BC', 'ARNP, CDE', 'RN ACNP', 'M.D.,M.R.C.S.',\n",
       "       'PA-C MPAS', 'RN, MSN, CS, FNP', 'DNP FNP-BC', 'MD, PA', 'NPF',\n",
       "       'PSYD', 'D.D.S., P.A.', 'MSN, NP-C', 'MD, DDS', 'EIN-', 'WHCNP',\n",
       "       'APN, CNP', 'R.N., N.P., C.S.', 'M.D. PHD', 'CCNS, NP',\n",
       "       'DDS. PRACTICE LIMITE', 'ARNP, LP', 'ND, ARNP', 'D.M.D. P.A.',\n",
       "       'APRN BC', 'DDS, FAGD', 'C-PA', 'APN, C', 'APN FNP-C', 'MD SC',\n",
       "       'MSN, MPH, CNM, FNP-C', 'D.O.,P.A.', 'D D S', 'GNP-BG',\n",
       "       'MSN, RN, FNP', 'ARNP BC', 'PHD', 'RN, NP-C', 'RN, MSN, FNP-C',\n",
       "       'MD FACG', 'DMD,MD', 'APRN,BC', 'M.D., M.P.H., M.B.A.', 'A.R.N.P',\n",
       "       'DMD, MPH', 'MSN, RN, ACNP-BC', 'M.D., PHD, NEUROLOGY', 'APN-NP',\n",
       "       'BCFNP', 'RN BC ANP', 'CNP-FNP-DNP', 'APN, ACNS-BC', 'GNP/APRN',\n",
       "       'FNPC', 'MMS, PA-C', 'D.M.D., M.S.', 'D.O,', 'MD, FACOG', 'DR',\n",
       "       'FNP-BC, PMHNP-BC', 'C.R.N.P', 'NPP', 'MD, MPH, FACP',\n",
       "       'M.D.,PH.D.', 'DO, FACOOG', 'APN, MSN', 'DMD FAGD', 'D.M.D, M.S.',\n",
       "       'APRN,CS', 'APRN-BC, ND', 'LPN, RN, ANP', 'O.D, F.A.A.O.', 'C- NP',\n",
       "       'CRNP PMH', 'RN, BSN, CRNA, MSN', 'APRN, PHD.', 'C.N.M.',\n",
       "       'D.D.S, M.S.', 'MD/PHD', 'DDS, MS, MSPH', 'R.N.P.', 'MED, LPC',\n",
       "       'PHYSICIAN ASST PA C', 'MD,PA', 'M.D.  MMSC.', 'NP, MSN',\n",
       "       'R.N., C.N.P.', 'PHD APN FNP-C', 'FNP BC', 'M.D.PA', 'MSN',\n",
       "       'RN, CRNP', 'RN-C, FNP', 'DMD PC', 'D.N.P.', 'FNP, ARNP', 'DPM`',\n",
       "       'MFTI', 'PHD PAC', 'APRN-BC, CFNP', 'D.M.D., P.A', 'MD, FACC',\n",
       "       'APRN, NP', 'MB, BCH', 'DC', 'M.D., M.B.A.', 'APRN,PMHNP-BC',\n",
       "       'M.D., P.T., A.T.,C.', 'CRNP-PMH', 'D. P. M.', 'PHARM. D',\n",
       "       'MSN-FNP', 'M. D.,', 'MSN, APRN, PMHNP-BC', 'MD, DVM', 'MS, APRN',\n",
       "       'RN, MA, NP-C,', 'GNP', 'APRN, PMHNP', 'M.D., D.T. M & H',\n",
       "       'M.M.D.', 'RN BSN MSN FNP', 'D.D.S.,M.M.SC.', 'OPTOMETRIST',\n",
       "       'OTRL', 'PHD., ARNP, BC', 'MSN, APRN, FNP-C', 'RN, WHNP, ANP',\n",
       "       'D.M.D.,M.S.', 'DNP, MS, FNP-C', 'CNS/ANP', 'PA-C, MSC',\n",
       "       'D.D.S., M.S., P.C.', 'APRN-FNP', 'D.D.S. M.D.', 'PT', 'MSSW, LSW',\n",
       "       'D.O., P.C.', 'R.N., C.F.N.P.', 'RN,BSN,APN-C', 'APRN, FNP',\n",
       "       'CRNP, NP-C', 'DNP,CRNP', 'D.D.S, M.D', 'RN, CNN, APN', 'RNCS',\n",
       "       'PHYSICIAN ASSISTANTS', 'APRN (N.P)', 'M.D.  MPH', 'PA-C, DMO',\n",
       "       'M.D.FACP', 'DNP-CFNP', 'PA-C, ND, MSOM, MS', 'D.D.S., P.C',\n",
       "       'FNP, CNM', 'RN, FNP-C', 'ANP B-C', 'DPM PA', 'C.F.N.P',\n",
       "       'PA-C, MPA', 'D.D.S.,M.S', 'PA-C, MPH', 'PMHNP, RN', 'MSN, NPC',\n",
       "       'M.D., F.A.C.E', 'RN,CNP', 'NP, PHD', 'DDS, PHD', 'PHD, ARNP',\n",
       "       'D.O., P.A.', 'M.D.F.A.C.C.', 'FNP/C', 'PH. D., PA-C', 'RN, APNP',\n",
       "       'M.D., F.A.C.C.', 'APN, NP-C', 'FNP CRNP', 'D. D. S., M. S.',\n",
       "       'RN,CS,MSN', 'RN, MS, FNP-C', 'M.D.PHD', 'MSM, PA-C',\n",
       "       'FNP-BC, CNM', 'MD DO', 'MS, ARNP, PMHNP-BC', 'D.M.D, P.A.',\n",
       "       'PA-C, PHARM.D.', 'F.N.P.C.', 'F.A.A.O', 'MSN, ACNS-BC, AGNP-C',\n",
       "       'MD, RPVI', 'MS, RN, ANP', 'GREG SAWYER, D.D.S.', 'M,D,', 'DDS PA',\n",
       "       'ARNP RN BSN MSN', 'C-NP', 'M.D., OD', 'ACNP-BC, CCNS',\n",
       "       'DDS, PLLC', 'MSN APRN BC', 'P. A.', 'M.D/', 'MSN, CNS, A.P.R.N.',\n",
       "       'MS, APN, CANP', 'MD, MA', 'M.ED., O.D.', 'RPH.', 'APRN, FNP-C',\n",
       "       'APRN, CSN', 'D.M.D., P.A.', 'MSN, APRN FNP-BC', 'MSN CRNP',\n",
       "       'RN, DDS, MS, PHD', 'O.D, P.A.', 'CRNP-F, APRN-PMH', 'MS,PA-C',\n",
       "       'APRN, CNP, CNNP', 'PA, RN', 'P.T.', 'MSPA, PA-C', 'FNP, DCNP',\n",
       "       'MS PA-C', 'MD, ABIHM', 'NURSE PRACTIONONER', 'MSN, APN, C',\n",
       "       'APRN-CNP', 'M.D., M.P.H', 'MSN, GNP-BC', 'ARNP - FNP-C',\n",
       "       'D.D.S., M.S., PH.D.', 'MD/FACS', 'NP, DNP', 'M.D., M.S',\n",
       "       'MD, CWS, FCCWS', 'M.D. PA', 'PMHNP/ANP', 'NURSE PRACTIONER',\n",
       "       'D.O, P.A.', 'AGACNP', 'DNP, FNP, PMHNP-BC', 'B.S.N., C.R.N.P.',\n",
       "       'RN, FNP-BC', 'MS, MSN, RN, FNP-BC', 'M.D., PH.D., M.SC.',\n",
       "       'RN, MSN, FNP, NP-C', 'PA PHD', 'RN-BC, MSN, CRNP', 'MHS, PAC',\n",
       "       'PHARM.D', 'PH. D. , M.D.', 'ENP', 'M.D,F.A.C.P,F.A.C.G', 'RPH',\n",
       "       'ADULT NP', 'D.D.S.,M.D', 'MB CHB', 'FNP-BC, WHNP-BC',\n",
       "       'M.D., LLC.', 'MD FACEP', 'CRNA, FNP-C', 'ARNP, NP-C', 'RNCNP',\n",
       "       'ARNP    PHD', 'RN,MSN,FNP-C', 'RN, APRN-BC, A', 'APRN-C', 'M.D>',\n",
       "       'D.O., MPH', 'N.P., M.P.H.', 'MD DMD', 'RN MSN APN', 'AGPCNP-BC',\n",
       "       'M.S.N., C.N.S.', '(DMD)', 'B.D.S., M.S.', 'RPA-C MPAS',\n",
       "       'D.D.S, FAGD', 'RN,MSN,CNP', 'MD FACC FACA FCCP', 'MSN, FNP',\n",
       "       'FNP, ACNP', 'DNP, RN, ANP-BC', 'MSARNP', 'APRN-BC, FPMHNP', 'NMD',\n",
       "       'MD, PHD, FACP', 'M.D., J.D.', 'F.N.P.-C.', 'RN, MSN, CANP',\n",
       "       'MD OD', 'D.D.S.,M.P.H', 'DPM, MS', 'R.N.,N.P.,C.N.S.,',\n",
       "       'MD, FACC, NASPE', 'OPHTHALMOLGIST M.D.', 'RN,MS,CNS',\n",
       "       'D.M.D., M.M.SC.', 'MD,MRCPI,FASN', 'M.D. M.P.H.',\n",
       "       'GERALD SULLIVAN', 'M..', 'APRN-RN', 'MD, MSC', 'MD OBGYN',\n",
       "       'DDS, MPH', 'MD`', 'MD, FAAFP', 'M.D./FAMILY PRACTICE', 'APN,C.',\n",
       "       'M.S.N., R.N., A.P.N.', 'RN, MS, FNP', 'N P', 'ACNP/FNP', 'MDPHD',\n",
       "       'RNC-OB', 'CNP, CNS, APRN BC', 'FNP-BC, ARNP', 'APRN-BC, MSN',\n",
       "       'P.A.C', 'RN, ACNP-BC', 'M.D./PH.D.', 'M.D., F.A.A.F.P.',\n",
       "       'M.D., P.C', 'AHCNS', 'RN, ACNS-BC', 'DNP, PMHNP-BC', 'M.D, PHD',\n",
       "       'M.D., PH.D., MRCP', 'M.S.N., N.P.', 'P,A,', 'DR,NP',\n",
       "       'D.D.S., P.C.', 'M.D., PHARM.D.', 'DO, M.S.', 'MHSC, PA-C',\n",
       "       'MSN - FNP-C', 'DDS, PC', 'C.F.N.P.', 'MD FACC FSCAI FSVM',\n",
       "       'DNSC, ARNP, CS', 'NP C', 'M.B.,B.S.', 'PH.D., MSN, PMHNP.',\n",
       "       'CFPMHNP', 'M.D.,  PHD.', 'DDS, MS, PC', 'RN, BSN, APN', 'PA, PT',\n",
       "       'RXN, NP', 'MS,PAC', 'RN, APRN', 'RN, MSN, PMHNP', 'RN,DDS',\n",
       "       'RNCS FNP', 'DDS,MS, DIPLOMATE', 'DDA, PA', 'MSDMD', 'DDS.FAGD',\n",
       "       'RN/PC, PMHCNS-BC', 'PSYNP', 'M.D., FACP', 'MSN APRN',\n",
       "       'M.D.  F.A.C.P.', 'D.M.D., J.D.', 'MD,DC', 'DMD MSD',\n",
       "       'M.D., F.A.P.A.', 'DDS MAGD,PC', 'MD DDS', 'MDFAC',\n",
       "       'R.N. MS. C.U.N.P.', 'ARNP, FNP-BC', 'D.D.S., D.M.D.', 'MSN,  APN',\n",
       "       'FACEP MD', 'D O P C', 'FNP, GNP, RN', 'NP,RN', 'RNC WHNP',\n",
       "       'P.A, A.T.C', 'DNP, PMHNP-C, FNP-C', 'MSN, AGPCNP-BC', 'O D  PS',\n",
       "       'OD, FAAO', 'CNS   FNP-C', 'MSN, APRN', 'MD,PH.D', 'NP, RN',\n",
       "       'MBBS, MRCP', 'RN, MSN, OCN, NP-C', 'M.D.,PHD', 'D.P.M., FACFAS',\n",
       "       'CNM C', 'MS, RPA-C', 'FNP MSN RN', 'BRIAN MASTERSON',\n",
       "       'DO, MBA, MS', 'DDS, PA', 'RN,MSN', 'RN/BSN, MSN ,FNP-BC',\n",
       "       'PH.D., MD', 'MD FAAOS FACS', 'D.O., PH.D.', 'D. M. D.',\n",
       "       'DENTIST DDS', 'MDCM FRCS', 'N.P.-C', 'RNC-ANP', 'APNC',\n",
       "       'APRN, NP-C', 'MD-A PROF CORP.', 'MD MS', 'BA,,DC, DO,JD, LLM',\n",
       "       'M.D., FACC', 'MD, PT', 'P.A.,C.', 'MSN NP', 'PA-C, MSPAS, MPH',\n",
       "       'PHYSICIAN ASSISANT', 'DDS FAGD'], dtype=object)"
      ]
     },
     "execution_count": 200,
     "metadata": {},
     "output_type": "execute_result"
    }
   ],
   "source": [
    "# Check out how many credentials there are.\n",
    "df_data_3.Credentials.unique()"
   ]
  },
  {
   "cell_type": "code",
   "execution_count": 201,
   "metadata": {
    "ExecuteTime": {
     "end_time": "2020-04-11T13:33:44.432018Z",
     "start_time": "2020-04-11T13:33:44.424794Z"
    }
   },
   "outputs": [
    {
     "data": {
      "text/plain": [
       "array(['Dentist', 'General Surgery', 'General Practice',\n",
       "       'Internal Medicine', 'Hematology/Oncology', 'Family Practice',\n",
       "       'Nurse Practitioner', 'Optometry', 'Cardiology',\n",
       "       'Obstetrics/Gynecology', 'Podiatry', 'Physician Assistant',\n",
       "       'Diagnostic Radiology',\n",
       "       'Student in an Organized Health Care Education/Training Program',\n",
       "       'Neurology', 'Certified Nurse Midwife', 'Rheumatology',\n",
       "       'Pharmacist', 'Urology', 'Cardiac Electrophysiology',\n",
       "       'Dermatology', 'Emergency Medicine', 'Psychiatry & Neurology',\n",
       "       'Infectious Disease', 'Psychiatry', 'Gastroenterology',\n",
       "       'Ophthalmology', 'Thoracic Surgery',\n",
       "       'Oral Surgery (dentists only)', 'Anesthesiology',\n",
       "       'Orthopedic Surgery', 'Otolaryngology', 'Pulmonary Disease',\n",
       "       'Neuropsychiatry', 'Physical Therapist', 'Pediatric Medicine',\n",
       "       'Physical Medicine and Rehabilitation', 'Maxillofacial Surgery',\n",
       "       'Certified Clinical Nurse Specialist', 'Preventive Medicine',\n",
       "       'Allergy/Immunology', 'Hand Surgery',\n",
       "       'Hospice and Palliative Care', 'Medical Oncology', 'Nephrology',\n",
       "       'Plastic and Reconstructive Surgery', 'Colon & Rectal Surgery',\n",
       "       'Hospitalist', 'Colorectal Surgery (formerly proctology)',\n",
       "       'Specialist', 'Geriatric Medicine', 'Gynecological/Oncology',\n",
       "       'Neurosurgery', 'Clinic/Center', 'Interventional Pain Management',\n",
       "       'Orthopaedic Surgery', 'Radiation Oncology', 'Endocrinology',\n",
       "       'Critical Care (Intensivists)', 'Vascular Surgery',\n",
       "       'Family Medicine', 'Registered Nurse', 'Pain Management',\n",
       "       'Sports Medicine', 'Unknown Physician Specialty Code',\n",
       "       'Osteopathic Manipulative Medicine', 'Interventional Radiology',\n",
       "       'Naturopath', 'Hematology', 'Preferred Provider Organization',\n",
       "       'Cardiac Surgery', 'Geriatric Psychiatry',\n",
       "       'Medical Genetics, Ph.D. Medical Genetics', 'Surgical Oncology',\n",
       "       'Surgery', 'Legal Medicine',\n",
       "       'Neuromusculoskeletal Medicine, Sports Medicine',\n",
       "       'Health Maintenance Organization',\n",
       "       'Psychologist (billing independently)', 'Neurological Surgery',\n",
       "       'Plastic Surgery', 'Homeopath', 'Licensed Practical Nurse', 'CRNA',\n",
       "       'Addiction Medicine', 'Specialist/Technologist',\n",
       "       'Nuclear Medicine', 'Unknown Supplier/Provider',\n",
       "       'Medical Genetics', 'Oral & Maxillofacial Surgery',\n",
       "       'Clinical Pharmacology', 'Sleep Medicine', 'Pathology',\n",
       "       'Counselor', 'Slide Preparation Facility', 'Rehabilitation Agency',\n",
       "       'Psychologist', 'Military Health Care Provider',\n",
       "       'General Acute Care Hospital',\n",
       "       'Multispecialty Clinic/Group Practice',\n",
       "       'Thoracic Surgery (Cardiothoracic Vascular Surgery)', 'Midwife',\n",
       "       'Chiropractic', 'Licensed Clinical Social Worker',\n",
       "       'Community Health Worker', 'Hospital (Dmercs Only)',\n",
       "       'Pharmacy Technician', 'Behavioral Analyst'], dtype=object)"
      ]
     },
     "execution_count": 201,
     "metadata": {},
     "output_type": "execute_result"
    }
   ],
   "source": [
    "# Check out the specialties.\n",
    "df_data_3.Specialty.unique()"
   ]
  },
  {
   "cell_type": "code",
   "execution_count": 202,
   "metadata": {
    "ExecuteTime": {
     "end_time": "2020-04-11T13:33:45.146084Z",
     "start_time": "2020-04-11T13:33:45.133910Z"
    }
   },
   "outputs": [
    {
     "data": {
      "text/plain": [
       "Gender\n",
       "F    0.378166\n",
       "M    0.621834\n",
       "dtype: float64"
      ]
     },
     "execution_count": 202,
     "metadata": {},
     "output_type": "execute_result"
    }
   ],
   "source": [
    "# How much of the dataset is male vs female?\n",
    "df_data_3.groupby('Gender').size() / df_data_3.groupby('Gender').size().sum()"
   ]
  },
  {
   "cell_type": "code",
   "execution_count": 203,
   "metadata": {
    "ExecuteTime": {
     "end_time": "2020-04-11T13:33:46.436216Z",
     "start_time": "2020-04-11T13:33:46.427724Z"
    }
   },
   "outputs": [
    {
     "data": {
      "text/plain": [
       "Opioid.Prescriber\n",
       "0    0.41282\n",
       "1    0.58718\n",
       "dtype: float64"
      ]
     },
     "execution_count": 203,
     "metadata": {},
     "output_type": "execute_result"
    }
   ],
   "source": [
    "# How many prescribers in our dataset prescribe opioid drugs vs do not?\n",
    "df_data_3.groupby('Opioid.Prescriber').size() / df_data_3.groupby('Opioid.Prescriber').size().sum()"
   ]
  },
  {
   "cell_type": "code",
   "execution_count": 204,
   "metadata": {
    "ExecuteTime": {
     "end_time": "2020-04-11T13:33:47.006899Z",
     "start_time": "2020-04-11T13:33:46.874843Z"
    }
   },
   "outputs": [
    {
     "data": {
      "text/plain": [
       "<matplotlib.axes._subplots.AxesSubplot at 0x7f5de0b13cd0>"
      ]
     },
     "execution_count": 204,
     "metadata": {},
     "output_type": "execute_result"
    },
    {
     "data": {
      "image/png": "[encoded data removed]",
      "text/plain": [
       "<Figure size 432x288 with 1 Axes>"
      ]
     },
     "metadata": {
      "needs_background": "light"
     },
     "output_type": "display_data"
    }
   ],
   "source": [
    "# Plot the opioid prescriber count vs non opioid prescriber count.\n",
    "# The dataset has a slightly higher number of opioid prescribers.\n",
    "pd.value_counts(df_data_3['Opioid.Prescriber']).plot.bar()"
   ]
  },
  {
   "cell_type": "markdown",
   "metadata": {},
   "source": [
    "## Combination of Approaches: Kaggle and Indiana University"
   ]
  },
  {
   "cell_type": "markdown",
   "metadata": {},
   "source": [
    " - \"Quick and Dirty\" approach from Kaggle (https://www.kaggle.com/jiashenliu/quick-and-dirty-attempt-on-voting-classifier)\n",
    " - \"Detecting Frequent Opioid Prescription\" (https://inclass.kaggle.com/apryor6/detecting-frequent-opioid-prescription)\n",
    " - Indiana University: \"Opiate prescription analysis using machine learning\" (https://github.com/anirudhkm/opiate-prescription-analysis/blob/master/AML_report.pdf)"
   ]
  },
  {
   "cell_type": "code",
   "execution_count": 205,
   "metadata": {
    "ExecuteTime": {
     "end_time": "2020-04-11T13:33:49.242042Z",
     "start_time": "2020-04-11T13:33:49.236461Z"
    }
   },
   "outputs": [],
   "source": [
    "import matplotlib.pyplot as plt\n",
    "%matplotlib inline\n",
    "import pandas as pd\n",
    "import numpy as np\n",
    "from sklearn.model_selection import train_test_split"
   ]
  },
  {
   "cell_type": "code",
   "execution_count": 206,
   "metadata": {
    "ExecuteTime": {
     "end_time": "2020-04-11T13:33:49.739352Z",
     "start_time": "2020-04-11T13:33:49.733648Z"
    }
   },
   "outputs": [
    {
     "name": "stdout",
     "output_type": "stream",
     "text": [
      "(24759, 256)\n"
     ]
    }
   ],
   "source": [
    "# Find the shape of our data frame so that we know how to set our classifiers up.\n",
    "print(df_data_3.shape)"
   ]
  },
  {
   "cell_type": "markdown",
   "metadata": {
    "collapsed": true
   },
   "source": [
    "Mark opioid vs non opiod drugs in df_data_3 with use of df_data_1."
   ]
  },
  {
   "cell_type": "code",
   "execution_count": 207,
   "metadata": {
    "ExecuteTime": {
     "end_time": "2020-04-11T13:33:50.690797Z",
     "start_time": "2020-04-11T13:33:50.682298Z"
    }
   },
   "outputs": [],
   "source": [
    "opioids = df_data_1 \n",
    "name = opioids['Drug Name']\n",
    "import re\n",
    "new_name = name.apply(lambda x:re.sub(\"\\ |-\",\".\",str(x)))\n",
    "columns = df_data_3.columns\n",
    "Abandoned_variables = set(columns).intersection(set(new_name)) #Form the intersection of two Index objects.\n",
    "Kept_variable = []\n",
    "for each in columns:\n",
    "    if each in Abandoned_variables:\n",
    "        pass\n",
    "    else:\n",
    "        Kept_variable.append(each)"
   ]
  },
  {
   "cell_type": "code",
   "execution_count": 208,
   "metadata": {
    "ExecuteTime": {
     "end_time": "2020-04-11T13:33:51.119131Z",
     "start_time": "2020-04-11T13:33:51.085442Z"
    }
   },
   "outputs": [
    {
     "name": "stdout",
     "output_type": "stream",
     "text": [
      "(24759, 245)\n"
     ]
    }
   ],
   "source": [
    "# Look at our new shape.\n",
    "df = df_data_3[Kept_variable]\n",
    "print(df.shape)"
   ]
  },
  {
   "cell_type": "code",
   "execution_count": 209,
   "metadata": {
    "ExecuteTime": {
     "end_time": "2020-04-11T13:33:51.590431Z",
     "start_time": "2020-04-11T13:33:51.570392Z"
    }
   },
   "outputs": [
    {
     "data": {
      "text/html": [
       "<div>\n",
       "<style scoped>\n",
       "    .dataframe tbody tr th:only-of-type {\n",
       "        vertical-align: middle;\n",
       "    }\n",
       "\n",
       "    .dataframe tbody tr th {\n",
       "        vertical-align: top;\n",
       "    }\n",
       "\n",
       "    .dataframe thead th {\n",
       "        text-align: right;\n",
       "    }\n",
       "</style>\n",
       "<table border=\"1\" class=\"dataframe\">\n",
       "  <thead>\n",
       "    <tr style=\"text-align: right;\">\n",
       "      <th></th>\n",
       "      <th>NPI</th>\n",
       "      <th>Gender</th>\n",
       "      <th>State</th>\n",
       "      <th>Credentials</th>\n",
       "      <th>Specialty</th>\n",
       "      <th>ABILIFY</th>\n",
       "      <th>ACYCLOVIR</th>\n",
       "      <th>ADVAIR.DISKUS</th>\n",
       "      <th>AGGRENOX</th>\n",
       "      <th>ALENDRONATE.SODIUM</th>\n",
       "      <th>...</th>\n",
       "      <th>VERAPAMIL.ER</th>\n",
       "      <th>VESICARE</th>\n",
       "      <th>VOLTAREN</th>\n",
       "      <th>VYTORIN</th>\n",
       "      <th>WARFARIN.SODIUM</th>\n",
       "      <th>XARELTO</th>\n",
       "      <th>ZETIA</th>\n",
       "      <th>ZIPRASIDONE.HCL</th>\n",
       "      <th>ZOLPIDEM.TARTRATE</th>\n",
       "      <th>Opioid.Prescriber</th>\n",
       "    </tr>\n",
       "  </thead>\n",
       "  <tbody>\n",
       "    <tr>\n",
       "      <td>0</td>\n",
       "      <td>1710982582</td>\n",
       "      <td>M</td>\n",
       "      <td>TX</td>\n",
       "      <td>DDS</td>\n",
       "      <td>Dentist</td>\n",
       "      <td>0</td>\n",
       "      <td>0</td>\n",
       "      <td>0</td>\n",
       "      <td>0</td>\n",
       "      <td>0</td>\n",
       "      <td>...</td>\n",
       "      <td>0</td>\n",
       "      <td>0</td>\n",
       "      <td>0</td>\n",
       "      <td>0</td>\n",
       "      <td>0</td>\n",
       "      <td>0</td>\n",
       "      <td>0</td>\n",
       "      <td>0</td>\n",
       "      <td>0</td>\n",
       "      <td>1</td>\n",
       "    </tr>\n",
       "    <tr>\n",
       "      <td>1</td>\n",
       "      <td>1245278100</td>\n",
       "      <td>F</td>\n",
       "      <td>AL</td>\n",
       "      <td>MD</td>\n",
       "      <td>General Surgery</td>\n",
       "      <td>0</td>\n",
       "      <td>0</td>\n",
       "      <td>0</td>\n",
       "      <td>0</td>\n",
       "      <td>0</td>\n",
       "      <td>...</td>\n",
       "      <td>0</td>\n",
       "      <td>0</td>\n",
       "      <td>0</td>\n",
       "      <td>0</td>\n",
       "      <td>0</td>\n",
       "      <td>0</td>\n",
       "      <td>0</td>\n",
       "      <td>0</td>\n",
       "      <td>35</td>\n",
       "      <td>1</td>\n",
       "    </tr>\n",
       "    <tr>\n",
       "      <td>2</td>\n",
       "      <td>1427182161</td>\n",
       "      <td>F</td>\n",
       "      <td>NY</td>\n",
       "      <td>M.D.</td>\n",
       "      <td>General Practice</td>\n",
       "      <td>0</td>\n",
       "      <td>0</td>\n",
       "      <td>0</td>\n",
       "      <td>0</td>\n",
       "      <td>0</td>\n",
       "      <td>...</td>\n",
       "      <td>0</td>\n",
       "      <td>0</td>\n",
       "      <td>0</td>\n",
       "      <td>0</td>\n",
       "      <td>0</td>\n",
       "      <td>0</td>\n",
       "      <td>0</td>\n",
       "      <td>0</td>\n",
       "      <td>25</td>\n",
       "      <td>0</td>\n",
       "    </tr>\n",
       "    <tr>\n",
       "      <td>3</td>\n",
       "      <td>1669567541</td>\n",
       "      <td>M</td>\n",
       "      <td>AZ</td>\n",
       "      <td>MD</td>\n",
       "      <td>Internal Medicine</td>\n",
       "      <td>0</td>\n",
       "      <td>0</td>\n",
       "      <td>0</td>\n",
       "      <td>0</td>\n",
       "      <td>21</td>\n",
       "      <td>...</td>\n",
       "      <td>0</td>\n",
       "      <td>0</td>\n",
       "      <td>0</td>\n",
       "      <td>0</td>\n",
       "      <td>0</td>\n",
       "      <td>0</td>\n",
       "      <td>0</td>\n",
       "      <td>0</td>\n",
       "      <td>0</td>\n",
       "      <td>1</td>\n",
       "    </tr>\n",
       "    <tr>\n",
       "      <td>4</td>\n",
       "      <td>1679650949</td>\n",
       "      <td>M</td>\n",
       "      <td>NV</td>\n",
       "      <td>M.D.</td>\n",
       "      <td>Hematology/Oncology</td>\n",
       "      <td>0</td>\n",
       "      <td>0</td>\n",
       "      <td>0</td>\n",
       "      <td>0</td>\n",
       "      <td>0</td>\n",
       "      <td>...</td>\n",
       "      <td>0</td>\n",
       "      <td>0</td>\n",
       "      <td>0</td>\n",
       "      <td>0</td>\n",
       "      <td>17</td>\n",
       "      <td>28</td>\n",
       "      <td>0</td>\n",
       "      <td>0</td>\n",
       "      <td>0</td>\n",
       "      <td>1</td>\n",
       "    </tr>\n",
       "  </tbody>\n",
       "</table>\n",
       "<p>5 rows × 245 columns</p>\n",
       "</div>"
      ],
      "text/plain": [
       "          NPI Gender State Credentials            Specialty  ABILIFY  \\\n",
       "0  1710982582      M    TX         DDS              Dentist        0   \n",
       "1  1245278100      F    AL          MD      General Surgery        0   \n",
       "2  1427182161      F    NY        M.D.     General Practice        0   \n",
       "3  1669567541      M    AZ          MD    Internal Medicine        0   \n",
       "4  1679650949      M    NV        M.D.  Hematology/Oncology        0   \n",
       "\n",
       "   ACYCLOVIR  ADVAIR.DISKUS  AGGRENOX  ALENDRONATE.SODIUM  ...  VERAPAMIL.ER  \\\n",
       "0          0              0         0                   0  ...             0   \n",
       "1          0              0         0                   0  ...             0   \n",
       "2          0              0         0                   0  ...             0   \n",
       "3          0              0         0                  21  ...             0   \n",
       "4          0              0         0                   0  ...             0   \n",
       "\n",
       "   VESICARE  VOLTAREN  VYTORIN  WARFARIN.SODIUM  XARELTO  ZETIA  \\\n",
       "0         0         0        0                0        0      0   \n",
       "1         0         0        0                0        0      0   \n",
       "2         0         0        0                0        0      0   \n",
       "3         0         0        0                0        0      0   \n",
       "4         0         0        0               17       28      0   \n",
       "\n",
       "   ZIPRASIDONE.HCL  ZOLPIDEM.TARTRATE  Opioid.Prescriber  \n",
       "0                0                  0                  1  \n",
       "1                0                 35                  1  \n",
       "2                0                 25                  0  \n",
       "3                0                  0                  1  \n",
       "4                0                  0                  1  \n",
       "\n",
       "[5 rows x 245 columns]"
      ]
     },
     "execution_count": 209,
     "metadata": {},
     "output_type": "execute_result"
    }
   ],
   "source": [
    "df.head()"
   ]
  },
  {
   "cell_type": "markdown",
   "metadata": {},
   "source": [
    "Now let's remove the credentials column so that we can use the speciality column instead.\n",
    "\n",
    "We will also remove the NPI column in order to trim our features down."
   ]
  },
  {
   "cell_type": "code",
   "execution_count": 210,
   "metadata": {
    "ExecuteTime": {
     "end_time": "2020-04-11T13:33:52.420954Z",
     "start_time": "2020-04-11T13:33:52.376353Z"
    }
   },
   "outputs": [
    {
     "data": {
      "text/html": [
       "<div>\n",
       "<style scoped>\n",
       "    .dataframe tbody tr th:only-of-type {\n",
       "        vertical-align: middle;\n",
       "    }\n",
       "\n",
       "    .dataframe tbody tr th {\n",
       "        vertical-align: top;\n",
       "    }\n",
       "\n",
       "    .dataframe thead th {\n",
       "        text-align: right;\n",
       "    }\n",
       "</style>\n",
       "<table border=\"1\" class=\"dataframe\">\n",
       "  <thead>\n",
       "    <tr style=\"text-align: right;\">\n",
       "      <th></th>\n",
       "      <th>Gender</th>\n",
       "      <th>State</th>\n",
       "      <th>Specialty</th>\n",
       "      <th>ABILIFY</th>\n",
       "      <th>ACYCLOVIR</th>\n",
       "      <th>ADVAIR.DISKUS</th>\n",
       "      <th>AGGRENOX</th>\n",
       "      <th>ALENDRONATE.SODIUM</th>\n",
       "      <th>ALLOPURINOL</th>\n",
       "      <th>ALPRAZOLAM</th>\n",
       "      <th>...</th>\n",
       "      <th>VERAPAMIL.ER</th>\n",
       "      <th>VESICARE</th>\n",
       "      <th>VOLTAREN</th>\n",
       "      <th>VYTORIN</th>\n",
       "      <th>WARFARIN.SODIUM</th>\n",
       "      <th>XARELTO</th>\n",
       "      <th>ZETIA</th>\n",
       "      <th>ZIPRASIDONE.HCL</th>\n",
       "      <th>ZOLPIDEM.TARTRATE</th>\n",
       "      <th>Opioid.Prescriber</th>\n",
       "    </tr>\n",
       "  </thead>\n",
       "  <tbody>\n",
       "    <tr>\n",
       "      <td>0</td>\n",
       "      <td>M</td>\n",
       "      <td>TX</td>\n",
       "      <td>Dentist</td>\n",
       "      <td>0</td>\n",
       "      <td>0</td>\n",
       "      <td>0</td>\n",
       "      <td>0</td>\n",
       "      <td>0</td>\n",
       "      <td>0</td>\n",
       "      <td>0</td>\n",
       "      <td>...</td>\n",
       "      <td>0</td>\n",
       "      <td>0</td>\n",
       "      <td>0</td>\n",
       "      <td>0</td>\n",
       "      <td>0</td>\n",
       "      <td>0</td>\n",
       "      <td>0</td>\n",
       "      <td>0</td>\n",
       "      <td>0</td>\n",
       "      <td>1</td>\n",
       "    </tr>\n",
       "    <tr>\n",
       "      <td>1</td>\n",
       "      <td>F</td>\n",
       "      <td>AL</td>\n",
       "      <td>General Surgery</td>\n",
       "      <td>0</td>\n",
       "      <td>0</td>\n",
       "      <td>0</td>\n",
       "      <td>0</td>\n",
       "      <td>0</td>\n",
       "      <td>0</td>\n",
       "      <td>134</td>\n",
       "      <td>...</td>\n",
       "      <td>0</td>\n",
       "      <td>0</td>\n",
       "      <td>0</td>\n",
       "      <td>0</td>\n",
       "      <td>0</td>\n",
       "      <td>0</td>\n",
       "      <td>0</td>\n",
       "      <td>0</td>\n",
       "      <td>35</td>\n",
       "      <td>1</td>\n",
       "    </tr>\n",
       "    <tr>\n",
       "      <td>2</td>\n",
       "      <td>F</td>\n",
       "      <td>NY</td>\n",
       "      <td>General Practice</td>\n",
       "      <td>0</td>\n",
       "      <td>0</td>\n",
       "      <td>0</td>\n",
       "      <td>0</td>\n",
       "      <td>0</td>\n",
       "      <td>0</td>\n",
       "      <td>0</td>\n",
       "      <td>...</td>\n",
       "      <td>0</td>\n",
       "      <td>0</td>\n",
       "      <td>0</td>\n",
       "      <td>0</td>\n",
       "      <td>0</td>\n",
       "      <td>0</td>\n",
       "      <td>0</td>\n",
       "      <td>0</td>\n",
       "      <td>25</td>\n",
       "      <td>0</td>\n",
       "    </tr>\n",
       "    <tr>\n",
       "      <td>3</td>\n",
       "      <td>M</td>\n",
       "      <td>AZ</td>\n",
       "      <td>Internal Medicine</td>\n",
       "      <td>0</td>\n",
       "      <td>0</td>\n",
       "      <td>0</td>\n",
       "      <td>0</td>\n",
       "      <td>21</td>\n",
       "      <td>0</td>\n",
       "      <td>0</td>\n",
       "      <td>...</td>\n",
       "      <td>0</td>\n",
       "      <td>0</td>\n",
       "      <td>0</td>\n",
       "      <td>0</td>\n",
       "      <td>0</td>\n",
       "      <td>0</td>\n",
       "      <td>0</td>\n",
       "      <td>0</td>\n",
       "      <td>0</td>\n",
       "      <td>1</td>\n",
       "    </tr>\n",
       "    <tr>\n",
       "      <td>4</td>\n",
       "      <td>M</td>\n",
       "      <td>NV</td>\n",
       "      <td>Hematology/Oncology</td>\n",
       "      <td>0</td>\n",
       "      <td>0</td>\n",
       "      <td>0</td>\n",
       "      <td>0</td>\n",
       "      <td>0</td>\n",
       "      <td>0</td>\n",
       "      <td>0</td>\n",
       "      <td>...</td>\n",
       "      <td>0</td>\n",
       "      <td>0</td>\n",
       "      <td>0</td>\n",
       "      <td>0</td>\n",
       "      <td>17</td>\n",
       "      <td>28</td>\n",
       "      <td>0</td>\n",
       "      <td>0</td>\n",
       "      <td>0</td>\n",
       "      <td>1</td>\n",
       "    </tr>\n",
       "  </tbody>\n",
       "</table>\n",
       "<p>5 rows × 243 columns</p>\n",
       "</div>"
      ],
      "text/plain": [
       "  Gender State            Specialty  ABILIFY  ACYCLOVIR  ADVAIR.DISKUS  \\\n",
       "0      M    TX              Dentist        0          0              0   \n",
       "1      F    AL      General Surgery        0          0              0   \n",
       "2      F    NY     General Practice        0          0              0   \n",
       "3      M    AZ    Internal Medicine        0          0              0   \n",
       "4      M    NV  Hematology/Oncology        0          0              0   \n",
       "\n",
       "   AGGRENOX  ALENDRONATE.SODIUM  ALLOPURINOL  ALPRAZOLAM  ...  VERAPAMIL.ER  \\\n",
       "0         0                   0            0           0  ...             0   \n",
       "1         0                   0            0         134  ...             0   \n",
       "2         0                   0            0           0  ...             0   \n",
       "3         0                  21            0           0  ...             0   \n",
       "4         0                   0            0           0  ...             0   \n",
       "\n",
       "   VESICARE  VOLTAREN  VYTORIN  WARFARIN.SODIUM  XARELTO  ZETIA  \\\n",
       "0         0         0        0                0        0      0   \n",
       "1         0         0        0                0        0      0   \n",
       "2         0         0        0                0        0      0   \n",
       "3         0         0        0                0        0      0   \n",
       "4         0         0        0               17       28      0   \n",
       "\n",
       "   ZIPRASIDONE.HCL  ZOLPIDEM.TARTRATE  Opioid.Prescriber  \n",
       "0                0                  0                  1  \n",
       "1                0                 35                  1  \n",
       "2                0                 25                  0  \n",
       "3                0                  0                  1  \n",
       "4                0                  0                  1  \n",
       "\n",
       "[5 rows x 243 columns]"
      ]
     },
     "execution_count": 210,
     "metadata": {},
     "output_type": "execute_result"
    }
   ],
   "source": [
    "df = df.drop(df.columns[[0, 3]], axis = 1) \n",
    "df.head()"
   ]
  },
  {
   "cell_type": "code",
   "execution_count": 211,
   "metadata": {
    "ExecuteTime": {
     "end_time": "2020-04-11T13:33:52.774616Z",
     "start_time": "2020-04-11T13:33:52.715381Z"
    }
   },
   "outputs": [
    {
     "name": "stdout",
     "output_type": "stream",
     "text": [
      "(19807, 243)\n",
      "(4952, 243)\n"
     ]
    }
   ],
   "source": [
    "# Let's now create our training and test data.\n",
    "train,test = train_test_split(df,test_size = 0.2,random_state = 42)\n",
    "print(train.shape)\n",
    "print(test.shape)"
   ]
  },
  {
   "cell_type": "code",
   "execution_count": 212,
   "metadata": {
    "ExecuteTime": {
     "end_time": "2020-04-11T13:33:53.820917Z",
     "start_time": "2020-04-11T13:33:53.804066Z"
    }
   },
   "outputs": [
    {
     "name": "stderr",
     "output_type": "stream",
     "text": [
      "/root/anaconda3/lib/python3.7/site-packages/ipykernel_launcher.py:5: SettingWithCopyWarning: \n",
      "A value is trying to be set on a copy of a slice from a DataFrame.\n",
      "Try using .loc[row_indexer,col_indexer] = value instead\n",
      "\n",
      "See the caveats in the documentation: http://pandas.pydata.org/pandas-docs/stable/user_guide/indexing.html#returning-a-view-versus-a-copy\n",
      "  \"\"\"\n",
      "/root/anaconda3/lib/python3.7/site-packages/ipykernel_launcher.py:6: SettingWithCopyWarning: \n",
      "A value is trying to be set on a copy of a slice from a DataFrame.\n",
      "Try using .loc[row_indexer,col_indexer] = value instead\n",
      "\n",
      "See the caveats in the documentation: http://pandas.pydata.org/pandas-docs/stable/user_guide/indexing.html#returning-a-view-versus-a-copy\n",
      "  \n"
     ]
    }
   ],
   "source": [
    "# Now we convert our categorical columns.\n",
    "Categorical_columns = ['Gender','State','Specialty']\n",
    "\n",
    "for col in Categorical_columns:\n",
    "    train[col] = pd.factorize(train[col], sort = True)[0]\n",
    "    test[col] = pd.factorize(test[col],sort = True)[0]"
   ]
  },
  {
   "cell_type": "code",
   "execution_count": 213,
   "metadata": {
    "ExecuteTime": {
     "end_time": "2020-04-11T13:33:54.400375Z",
     "start_time": "2020-04-11T13:33:54.317765Z"
    }
   },
   "outputs": [
    {
     "data": {
      "text/html": [
       "<div>\n",
       "<style scoped>\n",
       "    .dataframe tbody tr th:only-of-type {\n",
       "        vertical-align: middle;\n",
       "    }\n",
       "\n",
       "    .dataframe tbody tr th {\n",
       "        vertical-align: top;\n",
       "    }\n",
       "\n",
       "    .dataframe thead th {\n",
       "        text-align: right;\n",
       "    }\n",
       "</style>\n",
       "<table border=\"1\" class=\"dataframe\">\n",
       "  <thead>\n",
       "    <tr style=\"text-align: right;\">\n",
       "      <th></th>\n",
       "      <th>State</th>\n",
       "      <th>Specialty</th>\n",
       "      <th>ABILIFY</th>\n",
       "      <th>ACYCLOVIR</th>\n",
       "      <th>ADVAIR.DISKUS</th>\n",
       "      <th>AGGRENOX</th>\n",
       "      <th>ALENDRONATE.SODIUM</th>\n",
       "      <th>ALLOPURINOL</th>\n",
       "      <th>ALPRAZOLAM</th>\n",
       "      <th>AMIODARONE.HCL</th>\n",
       "      <th>...</th>\n",
       "      <th>VENTOLIN.HFA</th>\n",
       "      <th>VERAPAMIL.ER</th>\n",
       "      <th>VESICARE</th>\n",
       "      <th>VOLTAREN</th>\n",
       "      <th>VYTORIN</th>\n",
       "      <th>WARFARIN.SODIUM</th>\n",
       "      <th>XARELTO</th>\n",
       "      <th>ZETIA</th>\n",
       "      <th>ZIPRASIDONE.HCL</th>\n",
       "      <th>ZOLPIDEM.TARTRATE</th>\n",
       "    </tr>\n",
       "  </thead>\n",
       "  <tbody>\n",
       "    <tr>\n",
       "      <td>11299</td>\n",
       "      <td>34</td>\n",
       "      <td>1</td>\n",
       "      <td>0</td>\n",
       "      <td>0</td>\n",
       "      <td>13</td>\n",
       "      <td>0</td>\n",
       "      <td>0</td>\n",
       "      <td>0</td>\n",
       "      <td>0</td>\n",
       "      <td>0</td>\n",
       "      <td>...</td>\n",
       "      <td>0</td>\n",
       "      <td>0</td>\n",
       "      <td>0</td>\n",
       "      <td>0</td>\n",
       "      <td>0</td>\n",
       "      <td>0</td>\n",
       "      <td>0</td>\n",
       "      <td>0</td>\n",
       "      <td>0</td>\n",
       "      <td>0</td>\n",
       "    </tr>\n",
       "    <tr>\n",
       "      <td>17247</td>\n",
       "      <td>14</td>\n",
       "      <td>38</td>\n",
       "      <td>0</td>\n",
       "      <td>0</td>\n",
       "      <td>0</td>\n",
       "      <td>0</td>\n",
       "      <td>0</td>\n",
       "      <td>0</td>\n",
       "      <td>0</td>\n",
       "      <td>0</td>\n",
       "      <td>...</td>\n",
       "      <td>0</td>\n",
       "      <td>0</td>\n",
       "      <td>0</td>\n",
       "      <td>0</td>\n",
       "      <td>0</td>\n",
       "      <td>0</td>\n",
       "      <td>0</td>\n",
       "      <td>0</td>\n",
       "      <td>0</td>\n",
       "      <td>0</td>\n",
       "    </tr>\n",
       "    <tr>\n",
       "      <td>14337</td>\n",
       "      <td>9</td>\n",
       "      <td>52</td>\n",
       "      <td>0</td>\n",
       "      <td>0</td>\n",
       "      <td>0</td>\n",
       "      <td>0</td>\n",
       "      <td>0</td>\n",
       "      <td>61</td>\n",
       "      <td>0</td>\n",
       "      <td>0</td>\n",
       "      <td>...</td>\n",
       "      <td>0</td>\n",
       "      <td>0</td>\n",
       "      <td>0</td>\n",
       "      <td>0</td>\n",
       "      <td>0</td>\n",
       "      <td>0</td>\n",
       "      <td>0</td>\n",
       "      <td>0</td>\n",
       "      <td>0</td>\n",
       "      <td>0</td>\n",
       "    </tr>\n",
       "    <tr>\n",
       "      <td>14452</td>\n",
       "      <td>35</td>\n",
       "      <td>85</td>\n",
       "      <td>0</td>\n",
       "      <td>0</td>\n",
       "      <td>17</td>\n",
       "      <td>0</td>\n",
       "      <td>0</td>\n",
       "      <td>0</td>\n",
       "      <td>0</td>\n",
       "      <td>0</td>\n",
       "      <td>...</td>\n",
       "      <td>0</td>\n",
       "      <td>0</td>\n",
       "      <td>0</td>\n",
       "      <td>0</td>\n",
       "      <td>0</td>\n",
       "      <td>0</td>\n",
       "      <td>0</td>\n",
       "      <td>0</td>\n",
       "      <td>0</td>\n",
       "      <td>0</td>\n",
       "    </tr>\n",
       "    <tr>\n",
       "      <td>12366</td>\n",
       "      <td>9</td>\n",
       "      <td>66</td>\n",
       "      <td>0</td>\n",
       "      <td>0</td>\n",
       "      <td>0</td>\n",
       "      <td>0</td>\n",
       "      <td>0</td>\n",
       "      <td>0</td>\n",
       "      <td>0</td>\n",
       "      <td>0</td>\n",
       "      <td>...</td>\n",
       "      <td>0</td>\n",
       "      <td>0</td>\n",
       "      <td>0</td>\n",
       "      <td>19</td>\n",
       "      <td>0</td>\n",
       "      <td>0</td>\n",
       "      <td>0</td>\n",
       "      <td>0</td>\n",
       "      <td>0</td>\n",
       "      <td>0</td>\n",
       "    </tr>\n",
       "  </tbody>\n",
       "</table>\n",
       "<p>5 rows × 241 columns</p>\n",
       "</div>"
      ],
      "text/plain": [
       "       State  Specialty  ABILIFY  ACYCLOVIR  ADVAIR.DISKUS  AGGRENOX  \\\n",
       "11299     34          1        0          0             13         0   \n",
       "17247     14         38        0          0              0         0   \n",
       "14337      9         52        0          0              0         0   \n",
       "14452     35         85        0          0             17         0   \n",
       "12366      9         66        0          0              0         0   \n",
       "\n",
       "       ALENDRONATE.SODIUM  ALLOPURINOL  ALPRAZOLAM  AMIODARONE.HCL  ...  \\\n",
       "11299                   0            0           0               0  ...   \n",
       "17247                   0            0           0               0  ...   \n",
       "14337                   0           61           0               0  ...   \n",
       "14452                   0            0           0               0  ...   \n",
       "12366                   0            0           0               0  ...   \n",
       "\n",
       "       VENTOLIN.HFA  VERAPAMIL.ER  VESICARE  VOLTAREN  VYTORIN  \\\n",
       "11299             0             0         0         0        0   \n",
       "17247             0             0         0         0        0   \n",
       "14337             0             0         0         0        0   \n",
       "14452             0             0         0         0        0   \n",
       "12366             0             0         0        19        0   \n",
       "\n",
       "       WARFARIN.SODIUM  XARELTO  ZETIA  ZIPRASIDONE.HCL  ZOLPIDEM.TARTRATE  \n",
       "11299                0        0      0                0                  0  \n",
       "17247                0        0      0                0                  0  \n",
       "14337                0        0      0                0                  0  \n",
       "14452                0        0      0                0                  0  \n",
       "12366                0        0      0                0                  0  \n",
       "\n",
       "[5 rows x 241 columns]"
      ]
     },
     "execution_count": 213,
     "metadata": {},
     "output_type": "execute_result"
    }
   ],
   "source": [
    "# Set our features.\n",
    "features = train.iloc[:,1:242] #make sure we only use the columns that we want as our features\n",
    "features.head()"
   ]
  },
  {
   "cell_type": "markdown",
   "metadata": {},
   "source": [
    "## Creating our Classifiers to Predict Opioid Prescribers"
   ]
  },
  {
   "cell_type": "code",
   "execution_count": 214,
   "metadata": {
    "ExecuteTime": {
     "end_time": "2020-04-11T13:33:55.634823Z",
     "start_time": "2020-04-11T13:33:55.592346Z"
    }
   },
   "outputs": [],
   "source": [
    "import sklearn\n",
    "from sklearn.model_selection import cross_val_score\n",
    "from sklearn.linear_model import LogisticRegression\n",
    "from sklearn.naive_bayes import GaussianNB\n",
    "from sklearn.ensemble import RandomForestClassifier\n",
    "from sklearn.ensemble import GradientBoostingClassifier\n",
    "from sklearn.neighbors import KNeighborsClassifier\n",
    "from sklearn.tree import DecisionTreeClassifier\n",
    "from sklearn.discriminant_analysis import LinearDiscriminantAnalysis\n",
    "from sklearn.ensemble import VotingClassifier\n",
    "from sklearn.ensemble import BaggingClassifier"
   ]
  },
  {
   "cell_type": "markdown",
   "metadata": {},
   "source": [
    "Train our models. Let's use several classifiers so that we can check out which has the highest accuracy.\n",
    "\n",
    "Added bagging classifier to check for overfitting (along with cross validation)."
   ]
  },
  {
   "cell_type": "code",
   "execution_count": 215,
   "metadata": {
    "ExecuteTime": {
     "end_time": "2020-04-11T13:45:02.837940Z",
     "start_time": "2020-04-11T13:33:56.983058Z"
    }
   },
   "outputs": [
    {
     "name": "stdout",
     "output_type": "stream",
     "text": [
      "Accuracy: 0.607866 of model Logistic Regression\n",
      "Accuracy: 0.612056 of model Naive Bayes\n",
      "Accuracy: 0.833039 of model Random Forest\n",
      "Accuracy: 0.824557 of model Gradient Boosting\n",
      "Accuracy: 0.778513 of model KNN\n",
      "Accuracy: 0.780078 of model Decision Tree\n",
      "Accuracy: 0.716665 of model LDA\n",
      "Accuracy: 0.810320 of model Bagging Classifier\n",
      "Accuracy: 0.833342 of model Ensemble\n"
     ]
    }
   ],
   "source": [
    "# With 'Gender' included.\n",
    "features = train.iloc[:,0:242] \n",
    "# Make sure to remove Opioid.Prescriber (our target)!\n",
    "target = train['Opioid.Prescriber']\n",
    "Name = []\n",
    "Accuracy = []\n",
    "model1 = LogisticRegression(random_state = 22,C = 0.000000001,solver = 'liblinear',max_iter = 200)\n",
    "model2 = GaussianNB()\n",
    "model3 = RandomForestClassifier(n_estimators = 200,random_state = 22)\n",
    "model4 = GradientBoostingClassifier(n_estimators = 200)\n",
    "model5 = KNeighborsClassifier()\n",
    "model6 = DecisionTreeClassifier()\n",
    "model7 = LinearDiscriminantAnalysis()\n",
    "model8 = BaggingClassifier()\n",
    "Ensembled_model = VotingClassifier(estimators = [('lr', model1), ('gn', model2), ('rf', model3),('gb',model4),('kn',model5),('dt',model6),('lda',model7), ('bc',model8)], voting = 'hard')\n",
    "for model, label in zip([model1, model2, model3, model4,model5,model6,model7,model8,Ensembled_model], ['Logistic Regression','Naive Bayes','Random Forest', 'Gradient Boosting','KNN','Decision Tree','LDA', 'Bagging Classifier', 'Ensemble']):\n",
    "    scores = cross_val_score(model, features, target, cv = 5, scoring = 'accuracy')\n",
    "    Accuracy.append(scores.mean())\n",
    "    Name.append(model.__class__.__name__)\n",
    "    print(\"Accuracy: %f of model %s\" % (scores.mean(),label))"
   ]
  },
  {
   "cell_type": "code",
   "execution_count": 216,
   "metadata": {
    "ExecuteTime": {
     "end_time": "2020-04-11T13:56:06.421203Z",
     "start_time": "2020-04-11T13:45:03.112575Z"
    }
   },
   "outputs": [
    {
     "name": "stdout",
     "output_type": "stream",
     "text": [
      "Accuracy: 0.607866 of model Logistic Regression\n",
      "Accuracy: 0.612157 of model Naive Bayes\n",
      "Accuracy: 0.835109 of model Random Forest\n",
      "Accuracy: 0.824456 of model Gradient Boosting\n",
      "Accuracy: 0.778058 of model KNN\n",
      "Accuracy: 0.780936 of model Decision Tree\n",
      "Accuracy: 0.712727 of model LDA\n",
      "Accuracy: 0.813955 of model Bagging Classifier\n",
      "Accuracy: 0.834806 of model Ensemble\n"
     ]
    }
   ],
   "source": [
    "# Gender not included.\n",
    "features=train.iloc[:,1:242] \n",
    "#Make sure to remove Opioid.Prescriber (our target)!\n",
    "target = train['Opioid.Prescriber']\n",
    "Name = []\n",
    "Accuracy = []\n",
    "model1 = LogisticRegression(random_state = 22,C = 0.000000001,solver = 'liblinear',max_iter = 200)\n",
    "model2 = GaussianNB()\n",
    "model3 = RandomForestClassifier(n_estimators = 200,random_state = 22)\n",
    "model4 = GradientBoostingClassifier(n_estimators = 200)\n",
    "model5 = KNeighborsClassifier()\n",
    "model6 = DecisionTreeClassifier()\n",
    "model7 = LinearDiscriminantAnalysis()\n",
    "model8 = BaggingClassifier()\n",
    "Ensembled_model = VotingClassifier(estimators = [('lr', model1), ('gn', model2), ('rf', model3),('gb',model4),('kn',model5),('dt',model6),('lda',model7), ('bc',model8)], voting = 'hard')\n",
    "for model, label in zip([model1, model2, model3, model4,model5,model6,model7,model8,Ensembled_model], ['Logistic Regression','Naive Bayes','Random Forest', 'Gradient Boosting','KNN','Decision Tree','LDA', 'Bagging Classifier', 'Ensemble']):\n",
    "    scores = cross_val_score(model, features, target, cv = 5, scoring = 'accuracy')\n",
    "    Accuracy.append(scores.mean())\n",
    "    Name.append(model.__class__.__name__)\n",
    "    print(\"Accuracy: %f of model %s\" % (scores.mean(),label))"
   ]
  },
  {
   "cell_type": "markdown",
   "metadata": {
    "collapsed": true
   },
   "source": [
    "Looks like our highest accuracy score is 83.5% with Random Forest, followed by 83.3% with the Ensemble."
   ]
  },
  {
   "cell_type": "markdown",
   "metadata": {
    "collapsed": true
   },
   "source": [
    "Overall, it seems our models are less accurate when 'Gender' is included, with the exception of our Ensemble which gets a fairly high accuracy at 83.4% accuracy."
   ]
  },
  {
   "cell_type": "code",
   "execution_count": 225,
   "metadata": {
    "ExecuteTime": {
     "end_time": "2020-04-12T07:22:25.818875Z",
     "start_time": "2020-04-12T07:12:48.334701Z"
    }
   },
   "outputs": [
    {
     "name": "stdout",
     "output_type": "stream",
     "text": [
      "Accuracy: 0.835109 of model Random Forest\n",
      "Accuracy: 0.824456 of model Gradient Boosting\n",
      "Accuracy: 0.837027 of model Ensemble\n",
      "Accuracy: 0.813248 of model Bagging Classifier\n"
     ]
    }
   ],
   "source": [
    "# Let's check out our best models from our run without 'Gender'.\n",
    "Name_2 = []\n",
    "Accuracy_2 = []\n",
    "Ensembled_model_3 = VotingClassifier(estimators = [('rf', model3),('em',Ensembled_model)], voting = 'hard')\n",
    "for model, label in zip([model3, model4,Ensembled_model_3, model8], ['Random Forest', 'Gradient Boosting', 'Ensemble', 'Bagging Classifier']):\n",
    "    scores = cross_val_score(model, features, target, cv = 5, scoring = 'accuracy')\n",
    "    Accuracy_2.append(scores.mean())\n",
    "    Name_2.append(model.__class__.__name__)\n",
    "    print(\"Accuracy: %f of model %s\" % (scores.mean(),label))"
   ]
  },
  {
   "cell_type": "code",
   "execution_count": 226,
   "metadata": {
    "ExecuteTime": {
     "end_time": "2020-04-12T07:26:02.338622Z",
     "start_time": "2020-04-12T07:25:10.747257Z"
    }
   },
   "outputs": [],
   "source": [
    "from sklearn.metrics import accuracy_score\n",
    "classifers = [model3,model4,model8]\n",
    "out_sample_accuracy = []\n",
    "Name_2 = []\n",
    "for each in classifers:\n",
    "    fit = each.fit(features,target)\n",
    "    pred = fit.predict(test.iloc[:,1:242])\n",
    "    accuracy = accuracy_score(test['Opioid.Prescriber'],pred)\n",
    "    Name_2.append(each.__class__.__name__)\n",
    "    out_sample_accuracy.append(accuracy)"
   ]
  },
  {
   "cell_type": "markdown",
   "metadata": {},
   "source": [
    "### Evaluate"
   ]
  },
  {
   "cell_type": "code",
   "execution_count": 227,
   "metadata": {
    "ExecuteTime": {
     "end_time": "2020-04-12T07:26:22.304904Z",
     "start_time": "2020-04-12T07:26:22.293252Z"
    }
   },
   "outputs": [
    {
     "data": {
      "text/plain": [
       "array([[1304,  747],\n",
       "       [ 503, 2398]])"
      ]
     },
     "execution_count": 227,
     "metadata": {},
     "output_type": "execute_result"
    }
   ],
   "source": [
    "# Confusion Matrix\n",
    "from sklearn.metrics import confusion_matrix\n",
    "y_actu = test['Opioid.Prescriber']\n",
    "confusion_matrix(y_actu, pred)"
   ]
  },
  {
   "cell_type": "code",
   "execution_count": 228,
   "metadata": {
    "ExecuteTime": {
     "end_time": "2020-04-12T07:26:23.101803Z",
     "start_time": "2020-04-12T07:26:23.094022Z"
    }
   },
   "outputs": [
    {
     "data": {
      "text/plain": [
       "(array([0.58582391, 0.76248013, 1.        ]),\n",
       " array([1.        , 0.82661151, 0.        ]),\n",
       " array([0, 1]))"
      ]
     },
     "execution_count": 228,
     "metadata": {},
     "output_type": "execute_result"
    }
   ],
   "source": [
    "# Precision-Recall Curve\n",
    "sklearn.metrics.precision_recall_curve(y_actu, pred, pos_label = None, sample_weight = None)"
   ]
  },
  {
   "cell_type": "code",
   "execution_count": 229,
   "metadata": {
    "ExecuteTime": {
     "end_time": "2020-04-12T07:26:23.643852Z",
     "start_time": "2020-04-12T07:26:23.637124Z"
    }
   },
   "outputs": [
    {
     "name": "stdout",
     "output_type": "stream",
     "text": [
      "Average precision-recall score: 0.73\n"
     ]
    }
   ],
   "source": [
    "# Precision-Recall Score\n",
    "from sklearn.metrics import average_precision_score\n",
    "average_precision = average_precision_score(y_actu, pred)\n",
    "\n",
    "print('Average precision-recall score: {0:0.2f}'.format(average_precision))"
   ]
  },
  {
   "cell_type": "code",
   "execution_count": 230,
   "metadata": {
    "ExecuteTime": {
     "end_time": "2020-04-12T07:26:24.432918Z",
     "start_time": "2020-04-12T07:26:24.255626Z"
    }
   },
   "outputs": [
    {
     "data": {
      "text/plain": [
       "Text(0.5, 1.0, '2-class Precision-Recall curve: AP=0.73')"
      ]
     },
     "execution_count": 230,
     "metadata": {},
     "output_type": "execute_result"
    },
    {
     "data": {
      "image/png": "[encoded data removed]",
      "text/plain": [
       "<Figure size 432x288 with 1 Axes>"
      ]
     },
     "metadata": {
      "needs_background": "light"
     },
     "output_type": "display_data"
    }
   ],
   "source": [
    "# Precision-Recall Curve Plot\n",
    "from sklearn.metrics import precision_recall_curve\n",
    "import matplotlib.pyplot as plt\n",
    "\n",
    "precision, recall, _ = precision_recall_curve(y_actu, pred)\n",
    "\n",
    "plt.step(recall, precision, color = 'b', alpha = 0.2,\n",
    "         where = 'post')\n",
    "plt.fill_between(recall, precision, step = 'post', alpha = 0.2,\n",
    "                 color = 'b')\n",
    "\n",
    "plt.xlabel('Recall')\n",
    "plt.ylabel('Precision')\n",
    "plt.ylim([0.0, 1.05])\n",
    "plt.xlim([0.0, 1.0])\n",
    "plt.title('2-class Precision-Recall curve: AP={0:0.2f}'.format(\n",
    "          average_precision))"
   ]
  },
  {
   "cell_type": "markdown",
   "metadata": {
    "collapsed": true
   },
   "source": [
    "After running various classifiers, we find that Random Forest, Gradient Boosting and our Ensemble models had the best performance comparatively. This means that if we were to build a larger project, we could focus on these particular classifiers, building upon them to help predict opioid prescribers (given more years of data). \n",
    "\n",
    "The precision-recall curve can help us determine if we were successful enough. For the unfamiliar precision-recall scores represent a balance between high recall and high precision relating to a low false positive rate and a low false negative rate respectively. When evaluating, you have four outcomes: true positive, true negative, false positive and false negative. Depending on the project, you would aim for different balances, but ideally you want everything to be as accurate, or true, as possible. In the graph above, the y axis is the precision and the x axis is recall. If the graph went straight across the middle, that would be a random-like output. Below it would be poor performance and above it would be a more accurate and better quality performance. If it were 100 it would be a perfect classifier. Because the classifier above is at 0.84 we can feel confident that our precision was good. Now I challenge you to go improve it!"
   ]
  }
 ],
 "metadata": {
  "kernelspec": {
   "display_name": "Python 3",
   "language": "python",
   "name": "python3"
  },
  "language_info": {
   "codemirror_mode": {
    "name": "ipython",
    "version": 3
   },
   "file_extension": ".py",
   "mimetype": "text/x-python",
   "name": "python",
   "nbconvert_exporter": "python",
   "pygments_lexer": "ipython3",
   "version": "3.7.4"
  },
  "toc": {
   "base_numbering": 1,
   "nav_menu": {},
   "number_sections": true,
   "sideBar": true,
   "skip_h1_title": false,
   "title_cell": "Table of Contents",
   "title_sidebar": "Contents",
   "toc_cell": false,
   "toc_position": {},
   "toc_section_display": true,
   "toc_window_display": false
  },
  "varInspector": {
   "cols": {
    "lenName": 16,
    "lenType": 16,
    "lenVar": 40
   },
   "kernels_config": {
    "python": {
     "delete_cmd_postfix": "",
     "delete_cmd_prefix": "del ",
     "library": "var_list.py",
     "varRefreshCmd": "print(var_dic_list())"
    },
    "r": {
     "delete_cmd_postfix": ") ",
     "delete_cmd_prefix": "rm(",
     "library": "var_list.r",
     "varRefreshCmd": "cat(var_dic_list()) "
    }
   },
   "types_to_exclude": [
    "module",
    "function",
    "builtin_function_or_method",
    "instance",
    "_Feature"
   ],
   "window_display": false
  }
 },
 "nbformat": 4,
 "nbformat_minor": 1
}
